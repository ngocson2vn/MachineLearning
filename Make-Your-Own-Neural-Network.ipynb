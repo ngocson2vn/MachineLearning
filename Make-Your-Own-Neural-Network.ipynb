{
 "cells": [
  {
   "cell_type": "code",
   "execution_count": 1,
   "metadata": {},
   "outputs": [
    {
     "name": "stdout",
     "output_type": "stream",
     "text": [
      "Hello World!\n"
     ]
    }
   ],
   "source": [
    "print(\"Hello World!\")"
   ]
  },
  {
   "cell_type": "code",
   "execution_count": 6,
   "metadata": {
    "scrolled": true
   },
   "outputs": [
    {
     "name": "stdout",
     "output_type": "stream",
     "text": [
      "Collecting matplotlib\n",
      "\u001b[?25l  Downloading https://files.pythonhosted.org/packages/52/dd/ffb5cad3cf2f41bc3966489709e4e020a34f8d183fe85c91dc8a3db8bcf5/matplotlib-3.1.2-cp38-cp38-macosx_10_9_x86_64.whl (13.2MB)\n",
      "\u001b[K     |████████████████████████████████| 13.2MB 1.3MB/s eta 0:00:01\n",
      "\u001b[?25hRequirement already satisfied: python-dateutil>=2.1 in /Users/nguyen.son/.pyenv/versions/3.8.0/lib/python3.8/site-packages (from matplotlib) (2.8.1)\n",
      "Requirement already satisfied: numpy>=1.11 in /Users/nguyen.son/.pyenv/versions/3.8.0/lib/python3.8/site-packages (from matplotlib) (1.18.0)\n",
      "Collecting cycler>=0.10\n",
      "  Using cached https://files.pythonhosted.org/packages/f7/d2/e07d3ebb2bd7af696440ce7e754c59dd546ffe1bbe732c8ab68b9c834e61/cycler-0.10.0-py2.py3-none-any.whl\n",
      "Collecting kiwisolver>=1.0.1\n",
      "\u001b[?25l  Downloading https://files.pythonhosted.org/packages/22/a7/8f7706e8c1e847b9816bbb2c4c341e2ae9568653f17956f839574ed62815/kiwisolver-1.1.0-cp38-cp38-macosx_10_9_x86_64.whl (61kB)\n",
      "\u001b[K     |████████████████████████████████| 71kB 1.7MB/s eta 0:00:01\n",
      "\u001b[?25hCollecting pyparsing!=2.0.4,!=2.1.2,!=2.1.6,>=2.0.1\n",
      "\u001b[?25l  Downloading https://files.pythonhosted.org/packages/5d/bc/1e58593167fade7b544bfe9502a26dc860940a79ab306e651e7f13be68c2/pyparsing-2.4.6-py2.py3-none-any.whl (67kB)\n",
      "\u001b[K     |████████████████████████████████| 71kB 1.8MB/s eta 0:00:011\n",
      "\u001b[?25hRequirement already satisfied: six>=1.5 in /Users/nguyen.son/.pyenv/versions/3.8.0/lib/python3.8/site-packages (from python-dateutil>=2.1->matplotlib) (1.13.0)\n",
      "Requirement already satisfied: setuptools in /Users/nguyen.son/.pyenv/versions/3.8.0/lib/python3.8/site-packages (from kiwisolver>=1.0.1->matplotlib) (41.2.0)\n",
      "Installing collected packages: cycler, kiwisolver, pyparsing, matplotlib\n",
      "Successfully installed cycler-0.10.0 kiwisolver-1.1.0 matplotlib-3.1.2 pyparsing-2.4.6\n",
      "Note: you may need to restart the kernel to use updated packages.\n"
     ]
    }
   ],
   "source": [
    "%pip install matplotlib"
   ]
  },
  {
   "cell_type": "code",
   "execution_count": 17,
   "metadata": {},
   "outputs": [
    {
     "name": "stdout",
     "output_type": "stream",
     "text": [
      "Collecting scipy\n",
      "\u001b[?25l  Downloading https://files.pythonhosted.org/packages/90/d2/44b70a930ad28da8f65d8c294ac88b20f561e5d650b85efea80381566db1/scipy-1.4.1-cp38-cp38-macosx_10_9_x86_64.whl (28.8MB)\n",
      "\u001b[K     |████████████████████████████████| 28.8MB 143kB/s eta 0:00:01\n",
      "\u001b[?25hRequirement already satisfied: numpy>=1.13.3 in /Users/nguyen.son/.pyenv/versions/3.8.0/lib/python3.8/site-packages (from scipy) (1.18.0)\n",
      "Installing collected packages: scipy\n",
      "Successfully installed scipy-1.4.1\n",
      "Note: you may need to restart the kernel to use updated packages.\n"
     ]
    }
   ],
   "source": [
    "%pip install scipy"
   ]
  },
  {
   "cell_type": "code",
   "execution_count": 10,
   "metadata": {},
   "outputs": [
    {
     "name": "stdout",
     "output_type": "stream",
     "text": [
      "[[0. 0.]\n",
      " [0. 0.]\n",
      " [0. 0.]]\n",
      "\n",
      "[[ 1.  2.]\n",
      " [ 9.  0.]\n",
      " [ 0. 12.]]\n"
     ]
    },
    {
     "data": {
      "text/plain": [
       "<matplotlib.image.AxesImage at 0x110949550>"
      ]
     },
     "execution_count": 10,
     "metadata": {},
     "output_type": "execute_result"
    },
    {
     "data": {
      "image/png": "[encoded data removed]",
      "text/plain": [
       "<Figure size 432x288 with 1 Axes>"
      ]
     },
     "metadata": {
      "needs_background": "light"
     },
     "output_type": "display_data"
    }
   ],
   "source": [
    "import numpy\n",
    "import matplotlib as plt\n",
    "\n",
    "a = numpy.zeros((3,2))\n",
    "print(a, end=\"\\n\\n\")\n",
    "\n",
    "a[0,0] = 1\n",
    "a[0,1] = 2\n",
    "a[1,0] = 9\n",
    "a[2,1] = 12\n",
    "print(a)\n",
    "\n",
    "plt.pyplot.imshow(a, interpolation=\"nearest\")"
   ]
  },
  {
   "cell_type": "code",
   "execution_count": 59,
   "metadata": {},
   "outputs": [],
   "source": [
    "import numpy\n",
    "import scipy.special\n",
    "\n",
    "class NeuralNetwork:\n",
    "    def __init__(self, inputnodes, hiddennodes, outputnodes, learningrate):\n",
    "        self.inodes = inputnodes\n",
    "        self.hnodes = hiddennodes\n",
    "        self.onodes = outputnodes\n",
    "        self.lr = learningrate\n",
    "        \n",
    "        # link weigh matrices, wih and who\n",
    "        self.wih = numpy.random.normal(0.0, pow(self.hnodes, -0.5), (self.hnodes, self.inodes))\n",
    "        self.who = numpy.random.normal(0.0, pow(self.onodes, -0.5), (self.onodes, self.hnodes))\n",
    "        \n",
    "        self.activation_function = lambda x: scipy.special.expit(x)\n",
    "        \n",
    "    # train the neural network\n",
    "    def train(self, inputs_list, targets_list):\n",
    "        # convert inputs list to 2d array\n",
    "        inputs = numpy.array(inputs_list, ndmin=2).T\n",
    "        targets = numpy.array(targets_list, ndmin=2).T\n",
    "        \n",
    "        # calculate signals into hidden layer\n",
    "        hidden_inputs = numpy.dot(self.wih, inputs)\n",
    "        \n",
    "        # calculate the signals emerging from hidden layer\n",
    "        hidden_outputs = self.activation_function(hidden_inputs)\n",
    "        \n",
    "        # calculate signals into final output layer\n",
    "        final_inputs = numpy.dot(self.who, hidden_outputs)\n",
    "        \n",
    "        # calculate the signals emerging from final output layer\n",
    "        final_outputs = self.activation_function(final_inputs)\n",
    "        \n",
    "        # error is the (target - actual)\n",
    "        output_errors = targets - final_outputs\n",
    "        \n",
    "        # hidden layer error is the output_errors, split by weights, recombined at hidden nodes\n",
    "        hidden_errors = numpy.dot(self.who.T, output_errors)\n",
    "        \n",
    "        # update the weights for the links between the hidden and output layers\n",
    "        self.who += self.lr * numpy.dot((output_errors * final_outputs * (1 - final_outputs)), numpy.transpose(hidden_outputs))\n",
    "        \n",
    "        # update the weights for the links between the input and hidden layers\n",
    "        self.wih += self.lr * numpy.dot((hidden_errors * hidden_outputs * (1 - hidden_outputs)), numpy.transpose(inputs))\n",
    "        \n",
    "        return final_outputs\n",
    "    \n",
    "    def query(self, inputs_list):\n",
    "        # convert inputs_list to 2d array\n",
    "        inputs = numpy.array(inputs_list, ndmin=2).T\n",
    "        \n",
    "        # calculate signals into hidden layer\n",
    "        hidden_inputs = numpy.dot(self.wih, inputs)\n",
    "        \n",
    "        # calculate the signals emerging from hidden layer\n",
    "        hidden_outputs = self.activation_function(hidden_inputs)\n",
    "        \n",
    "        # calculate signals into final output layer\n",
    "        final_inputs = numpy.dot(self.who, hidden_outputs)\n",
    "        \n",
    "        # calculate the signals emerging from final output layer\n",
    "        final_outputs = self.activation_function(final_inputs)\n",
    "        \n",
    "        return final_outputs\n"
   ]
  },
  {
   "cell_type": "code",
   "execution_count": 22,
   "metadata": {},
   "outputs": [
    {
     "data": {
      "text/plain": [
       "array([[0.43839936],\n",
       "       [0.55331048],\n",
       "       [0.65811649]])"
      ]
     },
     "execution_count": 22,
     "metadata": {},
     "output_type": "execute_result"
    }
   ],
   "source": [
    "input_nodes = 3\n",
    "hidden_nodes = 3\n",
    "output_nodes = 3\n",
    "learning_rate = 0.3\n",
    "\n",
    "n = NeuralNetwork(input_nodes, hidden_nodes, output_nodes, learning_rate)\n",
    "n.query([1.0, 0.5, -1.5])"
   ]
  },
  {
   "cell_type": "code",
   "execution_count": 13,
   "metadata": {},
   "outputs": [
    {
     "data": {
      "text/plain": [
       "array([[0.003066  , 0.61092867, 0.29625198],\n",
       "       [0.02315253, 0.73480232, 0.62839136],\n",
       "       [0.22843016, 0.15547578, 0.1667372 ]])"
      ]
     },
     "execution_count": 13,
     "metadata": {},
     "output_type": "execute_result"
    }
   ],
   "source": [
    "import numpy\n",
    "\n",
    "numpy.random.rand(3, 3)"
   ]
  },
  {
   "cell_type": "code",
   "execution_count": 24,
   "metadata": {},
   "outputs": [
    {
     "name": "stdout",
     "output_type": "stream",
     "text": [
      "100\n"
     ]
    }
   ],
   "source": [
    "with open(\"makeyourownneuralnetwork/mnist_dataset/mnist_train_100.csv\") as df:\n",
    "    data_list = df.readlines()\n",
    "\n",
    "print(len(data_list))"
   ]
  },
  {
   "cell_type": "code",
   "execution_count": 28,
   "metadata": {},
   "outputs": [
    {
     "data": {
      "text/plain": [
       "'5,0,0,0,0,0,0,0,0,0,0,0,0,0,0,0,0,0,0,0,0,0,0,0,0,0,0,0,0,0,0,0,0,0,0,0,0,0,0,0,0,0,0,0,0,0,0,0,0,0,0,0,0,0,0,0,0,0,0,0,0,0,0,0,0,0,0,0,0,0,0,0,0,0,0,0,0,0,0,0,0,0,0,0,0,0,0,0,0,0,0,0,0,0,0,0,0,0,0,0,0,0,0,0,0,0,0,0,0,0,0,0,0,0,0,0,0,0,0,0,0,0,0,0,0,0,0,0,0,0,0,0,0,0,0,0,0,0,0,0,0,0,0,0,0,0,0,0,0,0,0,0,0,3,18,18,18,126,136,175,26,166,255,247,127,0,0,0,0,0,0,0,0,0,0,0,0,30,36,94,154,170,253,253,253,253,253,225,172,253,242,195,64,0,0,0,0,0,0,0,0,0,0,0,49,238,253,253,253,253,253,253,253,253,251,93,82,82,56,39,0,0,0,0,0,0,0,0,0,0,0,0,18,219,253,253,253,253,253,198,182,247,241,0,0,0,0,0,0,0,0,0,0,0,0,0,0,0,0,0,0,80,156,107,253,253,205,11,0,43,154,0,0,0,0,0,0,0,0,0,0,0,0,0,0,0,0,0,0,0,14,1,154,253,90,0,0,0,0,0,0,0,0,0,0,0,0,0,0,0,0,0,0,0,0,0,0,0,0,0,139,253,190,2,0,0,0,0,0,0,0,0,0,0,0,0,0,0,0,0,0,0,0,0,0,0,0,0,11,190,253,70,0,0,0,0,0,0,0,0,0,0,0,0,0,0,0,0,0,0,0,0,0,0,0,0,0,35,241,225,160,108,1,0,0,0,0,0,0,0,0,0,0,0,0,0,0,0,0,0,0,0,0,0,0,0,81,240,253,253,119,25,0,0,0,0,0,0,0,0,0,0,0,0,0,0,0,0,0,0,0,0,0,0,0,45,186,253,253,150,27,0,0,0,0,0,0,0,0,0,0,0,0,0,0,0,0,0,0,0,0,0,0,0,16,93,252,253,187,0,0,0,0,0,0,0,0,0,0,0,0,0,0,0,0,0,0,0,0,0,0,0,0,0,249,253,249,64,0,0,0,0,0,0,0,0,0,0,0,0,0,0,0,0,0,0,0,0,0,46,130,183,253,253,207,2,0,0,0,0,0,0,0,0,0,0,0,0,0,0,0,0,0,0,0,39,148,229,253,253,253,250,182,0,0,0,0,0,0,0,0,0,0,0,0,0,0,0,0,0,0,24,114,221,253,253,253,253,201,78,0,0,0,0,0,0,0,0,0,0,0,0,0,0,0,0,0,23,66,213,253,253,253,253,198,81,2,0,0,0,0,0,0,0,0,0,0,0,0,0,0,0,0,18,171,219,253,253,253,253,195,80,9,0,0,0,0,0,0,0,0,0,0,0,0,0,0,0,0,55,172,226,253,253,253,253,244,133,11,0,0,0,0,0,0,0,0,0,0,0,0,0,0,0,0,0,0,136,253,253,253,212,135,132,16,0,0,0,0,0,0,0,0,0,0,0,0,0,0,0,0,0,0,0,0,0,0,0,0,0,0,0,0,0,0,0,0,0,0,0,0,0,0,0,0,0,0,0,0,0,0,0,0,0,0,0,0,0,0,0,0,0,0,0,0,0,0,0,0,0,0,0,0,0,0,0,0,0,0,0,0,0,0,0,0,0,0,0,0,0,0,0,0,0,0,0,0,0,0,0,0,0,0,0,0'"
      ]
     },
     "execution_count": 28,
     "metadata": {},
     "output_type": "execute_result"
    }
   ],
   "source": [
    "data_list[0].rstrip()"
   ]
  },
  {
   "cell_type": "code",
   "execution_count": 53,
   "metadata": {},
   "outputs": [
    {
     "name": "stdout",
     "output_type": "stream",
     "text": [
      "[0. 0. 0. 0. 0. 0. 0. 0. 0. 0. 0. 0. 0. 0. 0. 0. 0. 0. 0. 0. 0. 0. 0. 0.\n",
      " 0. 0. 0. 0.]\n"
     ]
    },
    {
     "data": {
      "text/plain": [
       "<matplotlib.image.AxesImage at 0x12b0f04c0>"
      ]
     },
     "execution_count": 53,
     "metadata": {},
     "output_type": "execute_result"
    },
    {
     "data": {
      "image/png": "[encoded data removed]",
      "text/plain": [
       "<Figure size 432x288 with 1 Axes>"
      ]
     },
     "metadata": {
      "needs_background": "light"
     },
     "output_type": "display_data"
    }
   ],
   "source": [
    "all_values = data_list[0].rstrip().split(',')\n",
    "image_array = numpy.asfarray(all_values[1:]).reshape((28, 28))\n",
    "# print(image_array)\n",
    "a = image_array[:]\n",
    "print(a[-1,:])\n",
    "plt.pyplot.imshow(a, cmap='Greys', interpolation='None')"
   ]
  },
  {
   "cell_type": "code",
   "execution_count": 56,
   "metadata": {},
   "outputs": [
    {
     "name": "stdout",
     "output_type": "stream",
     "text": [
      "[0.01 0.01 0.01 0.01 0.01 0.01 0.01 0.01 0.01 0.01]\n",
      "[0.01 0.01 0.01 0.01 0.01 0.99 0.01 0.01 0.01 0.01]\n"
     ]
    }
   ],
   "source": [
    "# output nodes is 10\n",
    "onodes = 10\n",
    "targets = numpy.zeros(onodes) + 0.01\n",
    "print(targets)\n",
    "targets[int(all_values[0])] = 0.99\n",
    "print(targets)"
   ]
  },
  {
   "cell_type": "markdown",
   "metadata": {},
   "source": [
    "# Train the Neural Network with MNIST Dataset"
   ]
  },
  {
   "cell_type": "code",
   "execution_count": 62,
   "metadata": {},
   "outputs": [
    {
     "name": "stdout",
     "output_type": "stream",
     "text": [
      "5 [[0.36360076 0.61448718 0.89073919 0.11190925 0.13507481 0.29467301\n",
      "  0.53781994 0.41338355 0.96627121 0.25321611]]\n",
      "\n",
      "0 [[0.11997215 0.03921475 0.03624904 0.10851334 0.69367443 0.9831834\n",
      "  0.00538653 0.2636536  0.02679286 0.14332666]]\n",
      "\n",
      "4 [[0.47246155 0.13252467 0.16369189 0.07525533 0.08726671 0.51578326\n",
      "  0.08385574 0.16800755 0.58507625 0.10795586]]\n",
      "\n",
      "1 [[0.32089276 0.03482575 0.04152518 0.0561627  0.29408774 0.28261172\n",
      "  0.05368168 0.0739905  0.08537751 0.08410389]]\n",
      "\n",
      "9 [[0.10470979 0.46791737 0.07108811 0.04364041 0.16012496 0.09577653\n",
      "  0.04386844 0.04678899 0.02304619 0.04904928]]\n",
      "\n",
      "2 [[0.08016132 0.02604653 0.02750669 0.0207382  0.04384998 0.16017636\n",
      "  0.01907924 0.03626478 0.00706028 0.71252596]]\n",
      "\n",
      "1 [[0.01391261 0.02167033 0.16684756 0.03335337 0.05753128 0.09794025\n",
      "  0.01805036 0.04915473 0.02619021 0.20449397]]\n",
      "\n",
      "3 [[0.01303359 0.10950583 0.29762658 0.02412131 0.07478647 0.04139865\n",
      "  0.00471272 0.01581219 0.00237548 0.01431643]]\n",
      "\n",
      "1 [[0.03770532 0.41239325 0.08504855 0.12373576 0.03618518 0.1321143\n",
      "  0.04653578 0.05861843 0.06573371 0.12609926]]\n",
      "\n",
      "4 [[0.01482777 0.45456665 0.10426905 0.25482409 0.24629936 0.04441005\n",
      "  0.01645672 0.06532462 0.006148   0.02855581]]\n",
      "\n",
      "3 [[0.03393428 0.10178306 0.01565422 0.2538406  0.31212805 0.0624464\n",
      "  0.00958924 0.03242082 0.00294393 0.01059806]]\n",
      "\n",
      "5 [[0.05055667 0.46005198 0.32264237 0.37846712 0.38259287 0.02496126\n",
      "  0.1521493  0.09630717 0.3360407  0.04094814]]\n",
      "\n",
      "3 [[0.02142028 0.01958296 0.00858026 0.8400741  0.10066269 0.13474681\n",
      "  0.01717102 0.05952888 0.00115872 0.00587236]]\n",
      "\n",
      "6 [[0.04177393 0.01288684 0.02110603 0.47867167 0.08839014 0.07675161\n",
      "  0.01554083 0.02268281 0.00330041 0.02298088]]\n",
      "\n",
      "1 [[0.02759372 0.33219578 0.02598443 0.05821166 0.0215329  0.22598451\n",
      "  0.10915461 0.01521181 0.04407837 0.08115821]]\n",
      "\n",
      "7 [[0.0152197  0.10367524 0.06523867 0.04034897 0.02853184 0.0402831\n",
      "  0.09923556 0.00788939 0.00588803 0.05130992]]\n",
      "\n",
      "2 [[0.02120068 0.04031101 0.01827608 0.32662581 0.04975811 0.04322427\n",
      "  0.05605624 0.18108655 0.00194948 0.00960838]]\n",
      "\n",
      "8 [[0.00837099 0.09324471 0.08354173 0.03790053 0.01478073 0.0264521\n",
      "  0.03871337 0.07494774 0.00061317 0.04147291]]\n",
      "\n",
      "6 [[0.0312099  0.16759516 0.06081831 0.0471748  0.05078339 0.06717028\n",
      "  0.11856781 0.03861238 0.02762522 0.01704074]]\n",
      "\n",
      "9 [[0.00713054 0.08250328 0.06314136 0.01779383 0.01952126 0.02502706\n",
      "  0.17511198 0.13471268 0.01255023 0.04811656]]\n",
      "\n",
      "4 [[0.00870254 0.02036707 0.09134697 0.02277141 0.22050437 0.00753498\n",
      "  0.29555659 0.07657905 0.00690789 0.11191405]]\n",
      "\n",
      "0 [[0.02352523 0.01405237 0.0426383  0.04318873 0.03656029 0.018541\n",
      "  0.04979231 0.02068802 0.00402521 0.11518049]]\n",
      "\n",
      "9 [[0.08093361 0.05740614 0.05109997 0.00941541 0.5104145  0.04482401\n",
      "  0.06933185 0.09417115 0.02112876 0.32625647]]\n",
      "\n",
      "1 [[0.04083489 0.30434684 0.04508384 0.00919756 0.00726073 0.06973657\n",
      "  0.12204931 0.00979462 0.03846966 0.58954199]]\n",
      "\n",
      "1 [[0.1051027  0.48990258 0.06446246 0.00710535 0.00479704 0.10478036\n",
      "  0.08929125 0.00644056 0.02242126 0.09639939]]\n",
      "\n",
      "2 [[0.06192606 0.84287043 0.03307467 0.09705628 0.0287311  0.07473081\n",
      "  0.05586107 0.00388697 0.00402226 0.00702173]]\n",
      "\n",
      "4 [[0.02356753 0.33565355 0.23218637 0.01401141 0.02381918 0.05975867\n",
      "  0.03434907 0.03273878 0.03632523 0.2795781 ]]\n",
      "\n",
      "3 [[0.02950352 0.0163063  0.0973024  0.1532618  0.16564219 0.01198206\n",
      "  0.00783824 0.021151   0.00136942 0.00362663]]\n",
      "\n",
      "2 [[0.02591393 0.02107514 0.07987409 0.33899364 0.14162338 0.01446413\n",
      "  0.00908177 0.04597516 0.00173352 0.01178632]]\n",
      "\n",
      "7 [[0.01724081 0.630426   0.51132051 0.00406078 0.06853348 0.01947816\n",
      "  0.06080804 0.02195145 0.03619055 0.02609696]]\n",
      "\n",
      "3 [[0.01198679 0.03158642 0.07986793 0.03275543 0.37993489 0.01666069\n",
      "  0.00982904 0.0746395  0.01194217 0.01059074]]\n",
      "\n",
      "8 [[0.00733516 0.01353282 0.18754497 0.18015124 0.00615844 0.0136048\n",
      "  0.00821247 0.02982535 0.00394152 0.01191414]]\n",
      "\n",
      "6 [[0.04516315 0.02316211 0.03774824 0.05370156 0.03649282 0.04200567\n",
      "  0.2404563  0.01873999 0.06500922 0.02882445]]\n",
      "\n",
      "9 [[0.01211845 0.00840399 0.05377097 0.05514389 0.01760982 0.02088168\n",
      "  0.05448372 0.15802974 0.01729153 0.13744851]]\n",
      "\n",
      "0 [[0.0263958  0.00478813 0.08422999 0.08817354 0.01048325 0.02078708\n",
      "  0.15638771 0.01075871 0.01097929 0.13786718]]\n",
      "\n",
      "5 [[0.111538   0.03015236 0.02549318 0.03387624 0.01965416 0.06819262\n",
      "  0.12683218 0.06819715 0.04003619 0.26329388]]\n",
      "\n",
      "6 [[0.17777162 0.04021832 0.02772089 0.08675418 0.02436181 0.1106152\n",
      "  0.58636545 0.00544251 0.0117795  0.07333228]]\n",
      "\n",
      "0 [[0.3988788  0.00547555 0.03812724 0.01896308 0.00938257 0.09812395\n",
      "  0.53104735 0.00492125 0.01540892 0.09393433]]\n",
      "\n",
      "7 [[0.15771757 0.01735759 0.08892829 0.02076208 0.02352523 0.07836145\n",
      "  0.15523733 0.01602253 0.02520822 0.08726095]]\n",
      "\n",
      "6 [[0.48422101 0.01169816 0.01558549 0.01675078 0.04295981 0.04157457\n",
      "  0.57471034 0.07215912 0.01635645 0.10924903]]\n",
      "\n",
      "1 [[0.02541686 0.47635197 0.03555588 0.05736398 0.00263123 0.11941103\n",
      "  0.25082304 0.03394904 0.1245659  0.10406975]]\n",
      "\n",
      "8 [[0.05785438 0.05991924 0.02558359 0.05519205 0.00566387 0.03535567\n",
      "  0.1324377  0.04978924 0.0090184  0.0373527 ]]\n",
      "\n",
      "7 [[0.0429172  0.299519   0.01697586 0.03347801 0.01667148 0.07223035\n",
      "  0.09153639 0.27279576 0.14216244 0.25921462]]\n",
      "\n",
      "9 [[0.02300171 0.02742729 0.01657215 0.02681528 0.00362958 0.06653057\n",
      "  0.07573941 0.50537253 0.06161856 0.20268189]]\n",
      "\n",
      "3 [[0.01926829 0.17047744 0.01686416 0.21215836 0.04523036 0.08039397\n",
      "  0.05776619 0.07882734 0.02007156 0.05211145]]\n",
      "\n",
      "9 [[0.05832462 0.0067775  0.01842318 0.17085231 0.06514099 0.03968619\n",
      "  0.04152223 0.2922058  0.0199991  0.74957663]]\n",
      "\n",
      "8 [[0.01550954 0.06367021 0.02846063 0.22579027 0.01068562 0.02367208\n",
      "  0.07531898 0.02404603 0.06257452 0.25969632]]\n",
      "\n",
      "5 [[0.08293469 0.0156877  0.00949494 0.0219672  0.0084571  0.11692007\n",
      "  0.06330265 0.01216571 0.37136317 0.31419832]]\n",
      "\n",
      "9 [[0.04403872 0.08409613 0.01825798 0.25980616 0.01551478 0.17415722\n",
      "  0.07974374 0.03030319 0.06821804 0.05216941]]\n",
      "\n",
      "3 [[0.05011813 0.00781815 0.01717109 0.19974642 0.00281718 0.32449046\n",
      "  0.01412072 0.00401758 0.04974615 0.29031744]]\n",
      "\n",
      "3 [[0.10071559 0.02431469 0.02621532 0.76811422 0.01143005 0.13301788\n",
      "  0.06774106 0.01465628 0.05607162 0.03598471]]\n",
      "\n",
      "0 [[0.34231071 0.00326992 0.01195314 0.72615456 0.02631086 0.03223014\n",
      "  0.02169521 0.02151028 0.01977699 0.03897119]]\n",
      "\n",
      "7 [[0.69156074 0.00342821 0.01523465 0.03267294 0.05579243 0.03243711\n",
      "  0.01324884 0.15288032 0.01432344 0.30226189]]\n",
      "\n",
      "4 [[0.03342258 0.07764871 0.0088274  0.05223552 0.02331195 0.11895573\n",
      "  0.07247912 0.2530142  0.04387015 0.27126368]]\n",
      "\n",
      "9 [[0.01384768 0.0036308  0.01755729 0.06250892 0.34779039 0.05929602\n",
      "  0.0367517  0.5906882  0.01642839 0.10278016]]\n",
      "\n",
      "8 [[0.02359176 0.00763698 0.02027707 0.01539325 0.0222168  0.04206735\n",
      "  0.05535845 0.03590039 0.06072801 0.45339661]]\n",
      "\n",
      "0 [[0.37082239 0.00383731 0.02840312 0.00195222 0.00502436 0.03168377\n",
      "  0.0322599  0.01640056 0.19543038 0.01781072]]\n",
      "\n",
      "9 [[0.15967907 0.01241096 0.01343982 0.00783726 0.04151973 0.06690834\n",
      "  0.0285954  0.02789162 0.21423482 0.5120391 ]]\n",
      "\n",
      "4 [[0.24569692 0.00668814 0.00768849 0.12604695 0.49433621 0.02485471\n",
      "  0.02783205 0.05512036 0.02064646 0.12296524]]\n",
      "\n",
      "1 [[0.11609664 0.1937691  0.0163954  0.01969379 0.05377123 0.08246074\n",
      "  0.02950592 0.00270159 0.33055085 0.00212729]]\n",
      "\n",
      "4 [[0.26275497 0.03202387 0.0417503  0.00534274 0.74708629 0.02115155\n",
      "  0.03709396 0.10329885 0.00809043 0.01714661]]\n",
      "\n",
      "4 [[0.01777201 0.3988817  0.00518937 0.0117867  0.80731822 0.04870811\n",
      "  0.08441634 0.0136292  0.05877205 0.02164894]]\n",
      "\n",
      "6 [[0.07939104 0.0205985  0.00572641 0.05572107 0.52338172 0.01775805\n",
      "  0.32843424 0.00335518 0.03040034 0.01602736]]\n",
      "\n",
      "0 [[0.70843112 0.01357489 0.0047075  0.01718341 0.03933597 0.02617136\n",
      "  0.32254548 0.00914843 0.01848093 0.04391829]]\n",
      "\n",
      "4 [[0.34920546 0.01172848 0.00925799 0.00137143 0.11059662 0.02354984\n",
      "  0.44712587 0.0269352  0.04007559 0.0263888 ]]\n",
      "\n",
      "5 [[0.04692682 0.19054788 0.02310272 0.00870492 0.29711236 0.21594346\n",
      "  0.01957075 0.005698   0.11303998 0.01289402]]\n",
      "\n",
      "6 [[0.12839122 0.01010993 0.00799096 0.01134352 0.08684781 0.12780819\n",
      "  0.48590723 0.00333683 0.03036961 0.05699822]]\n",
      "\n",
      "1 [[0.01685006 0.79448283 0.0178724  0.02862296 0.02839364 0.27664045\n",
      "  0.09724359 0.0098444  0.06698306 0.01726754]]\n",
      "\n",
      "0 [[0.27926036 0.02089881 0.0774915  0.01407628 0.05534012 0.17224663\n",
      "  0.01314002 0.01044019 0.02744845 0.01841425]]\n",
      "\n",
      "0 [[0.84555306 0.00817082 0.00976365 0.01622886 0.19341635 0.02866037\n",
      "  0.1306169  0.01282421 0.00918992 0.02159506]]\n",
      "\n",
      "1 [[0.14740697 0.45166588 0.01080976 0.06440001 0.00508663 0.05784629\n",
      "  0.37428256 0.00354499 0.02559054 0.04019652]]\n",
      "\n",
      "7 [[0.2930149  0.15558972 0.01934368 0.00417888 0.16705838 0.13587951\n",
      "  0.00374626 0.12680096 0.01457389 0.53647271]]\n",
      "\n",
      "1 [[0.02571853 0.98464724 0.03914847 0.01433958 0.00410681 0.07770252\n",
      "  0.03290848 0.02303008 0.08315161 0.03625698]]\n",
      "\n",
      "6 [[0.03672833 0.32927341 0.01066978 0.00238131 0.02298574 0.0160271\n",
      "  0.52687971 0.02130445 0.07097377 0.00617914]]\n",
      "\n",
      "3 [[0.16639113 0.07741895 0.00433007 0.46268553 0.03988958 0.03891865\n",
      "  0.04967099 0.09048114 0.00692893 0.01724266]]\n",
      "\n",
      "0 [[0.8975933  0.00986399 0.00595053 0.13307105 0.03511993 0.03732481\n",
      "  0.02809762 0.04298694 0.00546874 0.00385043]]\n",
      "\n",
      "2 [[0.08042145 0.44856623 0.05271081 0.40648817 0.00838607 0.03502281\n",
      "  0.10024819 0.01403507 0.02438681 0.00138778]]\n",
      "\n",
      "1 [[6.25538823e-02 6.45120000e-01 1.19403764e-01 1.69043061e-02\n",
      "  5.11780028e-03 7.80120173e-02 3.53658458e-02 2.05722899e-02\n",
      "  3.98235374e-02 2.80822177e-04]]\n",
      "\n",
      "1 [[0.01897227 0.54890567 0.14711823 0.01232069 0.00975059 0.04243978\n",
      "  0.0388229  0.05256506 0.02069607 0.00261684]]\n",
      "\n",
      "7 [[0.05928601 0.26699225 0.01293583 0.00491008 0.10398571 0.04743343\n",
      "  0.01166578 0.71886423 0.01458509 0.02576209]]\n",
      "\n",
      "9 [[0.60935308 0.02676863 0.09454701 0.01438897 0.02143028 0.01632114\n",
      "  0.11443903 0.05418811 0.01018147 0.00717207]]\n",
      "\n",
      "0 [[0.27783376 0.0073062  0.02057622 0.01750736 0.01025753 0.02475243\n",
      "  0.05877195 0.04650911 0.01088506 0.0172623 ]]\n",
      "\n",
      "2 [[0.30135168 0.03590682 0.18432361 0.01459753 0.03497686 0.02424864\n",
      "  0.05044756 0.03759808 0.00721981 0.00904288]]\n",
      "\n",
      "6 [[0.03675399 0.07700976 0.14402268 0.00239713 0.01567288 0.02376469\n",
      "  0.766511   0.0509138  0.03759076 0.13783028]]\n",
      "\n",
      "7 [[0.01217866 0.0103407  0.38917821 0.05836444 0.01846346 0.04835506\n",
      "  0.01544936 0.32587046 0.00953828 0.19112697]]\n",
      "\n",
      "8 [[0.05431713 0.07407757 0.05902875 0.03455546 0.01188078 0.07339442\n",
      "  0.02215765 0.20611119 0.07173168 0.01149299]]\n",
      "\n",
      "3 [[0.03327074 0.04596114 0.05946433 0.10081473 0.03522376 0.02598028\n",
      "  0.05418659 0.42783662 0.04938188 0.07240646]]\n",
      "\n",
      "9 [[0.01885144 0.01870909 0.02961061 0.0192125  0.06283156 0.03969594\n",
      "  0.04031423 0.62928338 0.05799678 0.34981374]]\n",
      "\n",
      "0 [[0.89849737 0.03115825 0.10769835 0.0297156  0.01949961 0.026291\n",
      "  0.00856452 0.01317605 0.04296472 0.04944217]]\n",
      "\n",
      "4 [[0.03893678 0.00843232 0.01078158 0.00985159 0.39596238 0.06042623\n",
      "  0.09940099 0.04509547 0.03002387 0.53075499]]\n",
      "\n",
      "6 [[0.0127114  0.04288292 0.02270419 0.01879625 0.24737449 0.0074475\n",
      "  0.9415209  0.00376742 0.13695553 0.00560791]]\n",
      "\n",
      "7 [[0.04917603 0.01574601 0.01284765 0.07439458 0.44228224 0.04128563\n",
      "  0.00764319 0.42308947 0.00656619 0.18000059]]\n",
      "\n",
      "4 [[0.01190367 0.01321137 0.03709169 0.06047019 0.77926832 0.01294132\n",
      "  0.10935328 0.10799614 0.02728316 0.0083781 ]]\n",
      "\n",
      "6 [[0.0114047  0.08861552 0.02168801 0.02660709 0.01430661 0.01125708\n",
      "  0.95074962 0.00514711 0.1202985  0.01713733]]\n",
      "\n",
      "8 [[0.03549361 0.1101922  0.01597101 0.02411374 0.00829919 0.06227431\n",
      "  0.12265206 0.01832397 0.3765446  0.02290437]]\n",
      "\n",
      "0 [[0.67451198 0.0055878  0.02216729 0.01697082 0.01459509 0.02334532\n",
      "  0.06158344 0.01738753 0.2060486  0.0120833 ]]\n",
      "\n",
      "7 [[0.03414378 0.03369346 0.0202889  0.02895435 0.00936788 0.05552624\n",
      "  0.00753954 0.64156643 0.16360463 0.47162135]]\n",
      "\n",
      "8 [[0.0712059  0.05178722 0.01473162 0.02176849 0.01100749 0.08904971\n",
      "  0.02916345 0.03516495 0.79750128 0.00371615]]\n",
      "\n",
      "3 [[0.11646255 0.09595802 0.02463046 0.89512971 0.03305456 0.05513141\n",
      "  0.00863196 0.09546153 0.03116008 0.00324188]]\n",
      "\n",
      "1 [[1.60100017e-02 7.71140448e-01 5.16748728e-02 2.81302116e-02\n",
      "  1.57219061e-02 5.22723630e-02 1.74976301e-02 1.75773917e-01\n",
      "  2.01119335e-01 5.09102737e-04]]\n",
      "\n"
     ]
    }
   ],
   "source": [
    "# number of input, hidden and output nodes\n",
    "input_nodes = 28 * 28\n",
    "hidden_nodes = 100\n",
    "output_nodes = 10\n",
    "\n",
    "# learning rate\n",
    "learning_rate = 0.3\n",
    "\n",
    "# create a neural network\n",
    "n = NeuralNetwork(input_nodes, hidden_nodes, output_nodes, learning_rate)\n",
    "\n",
    "# load the mnist training data CSV file into a list\n",
    "with open(\"makeyourownneuralnetwork/mnist_dataset/mnist_train_100.csv\") as df:\n",
    "    training_data_list = df.readlines()\n",
    "\n",
    "\n",
    "#############################\n",
    "# train the neural network\n",
    "#############################\n",
    "\n",
    "# go through all records in the training data set\n",
    "for record in training_data_list:\n",
    "    all_values = record.rstrip().split(',')\n",
    "    \n",
    "    # scale and shift the inputs\n",
    "    inputs = ((numpy.asfarray(all_values[1:]) / 255) * 0.99) + 0.01\n",
    "    \n",
    "    # create the target output values (all 0.01, except the desired label which is 0.99)\n",
    "    targets = numpy.zeros(output_nodes) + 0.01\n",
    "    \n",
    "    # all_values[0] is the target label for this record\n",
    "    targets[int(all_values[0])] = 0.99\n",
    "    outputs = n.train(inputs, targets)\n",
    "    \n",
    "    print(all_values[0], outputs.T, end='\\n\\n')\n"
   ]
  },
  {
   "cell_type": "code",
   "execution_count": 63,
   "metadata": {},
   "outputs": [
    {
     "name": "stdout",
     "output_type": "stream",
     "text": [
      "7\n"
     ]
    }
   ],
   "source": [
    "#############################\n",
    "# Testing the neural network\n",
    "#############################\n",
    "\n",
    "# load the mnist test data CSV file into a list\n",
    "with open(\"makeyourownneuralnetwork/mnist_dataset/mnist_test_10.csv\") as df:\n",
    "    test_data_list = df.readlines()\n",
    "\n",
    "# get the first test record\n",
    "all_values = test_data_list[0].rstrip().split(',')\n",
    "print(all_values[0])"
   ]
  },
  {
   "cell_type": "code",
   "execution_count": 64,
   "metadata": {},
   "outputs": [
    {
     "data": {
      "text/plain": [
       "<matplotlib.image.AxesImage at 0x12bb86280>"
      ]
     },
     "execution_count": 64,
     "metadata": {},
     "output_type": "execute_result"
    },
    {
     "data": {
      "image/png": "[encoded data removed]",
      "text/plain": [
       "<Figure size 432x288 with 1 Axes>"
      ]
     },
     "metadata": {
      "needs_background": "light"
     },
     "output_type": "display_data"
    }
   ],
   "source": [
    "image_array = numpy.asfarray(all_values[1:]).reshape((28, 28))\n",
    "plt.pyplot.imshow(image_array, cmap='Greys', interpolation='None')"
   ]
  },
  {
   "cell_type": "code",
   "execution_count": 65,
   "metadata": {},
   "outputs": [
    {
     "data": {
      "text/plain": [
       "array([[0.04174925],\n",
       "       [0.00989351],\n",
       "       [0.03484592],\n",
       "       [0.10797015],\n",
       "       [0.02097761],\n",
       "       [0.02761321],\n",
       "       [0.00237864],\n",
       "       [0.88153795],\n",
       "       [0.02041767],\n",
       "       [0.01303105]])"
      ]
     },
     "execution_count": 65,
     "metadata": {},
     "output_type": "execute_result"
    }
   ],
   "source": [
    "n.query((numpy.asfarray(all_values[1:]) / 255) * 0.99 + 0.01)"
   ]
  }
 ],
 "metadata": {
  "kernelspec": {
   "display_name": "Python 3",
   "language": "python",
   "name": "python3"
  },
  "language_info": {
   "codemirror_mode": {
    "name": "ipython",
    "version": 3
   },
   "file_extension": ".py",
   "mimetype": "text/x-python",
   "name": "python",
   "nbconvert_exporter": "python",
   "pygments_lexer": "ipython3",
   "version": "3.8.0"
  }
 },
 "nbformat": 4,
 "nbformat_minor": 4
}
