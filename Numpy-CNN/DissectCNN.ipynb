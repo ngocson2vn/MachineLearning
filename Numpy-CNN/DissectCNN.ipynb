{
 "cells": [
  {
   "cell_type": "code",
   "execution_count": 11,
   "metadata": {},
   "outputs": [
    {
     "name": "stdout",
     "output_type": "stream",
     "text": [
      "Extracting train-images-idx3-ubyte.gz\n",
      "(50000, 784)\n"
     ]
    }
   ],
   "source": [
    "import numpy as np\n",
    "import CNN.utils as utils\n",
    "import matplotlib.pyplot as plt\n",
    "\n",
    "m = 50000\n",
    "img_dim = 28\n",
    "\n",
    "X = utils.extract_data('train-images-idx3-ubyte.gz', m, img_dim)\n",
    "print(X.shape)"
   ]
  },
  {
   "cell_type": "code",
   "execution_count": 13,
   "metadata": {},
   "outputs": [
    {
     "data": {
      "image/png": "[encoded data removed]",
      "text/plain": [
       "<Figure size 432x288 with 1 Axes>"
      ]
     },
     "metadata": {
      "needs_background": "light"
     },
     "output_type": "display_data"
    }
   ],
   "source": [
    "X -= int(np.mean(X))\n",
    "X /= int(np.std(X))\n",
    "\n",
    "X = 255 - X\n",
    "\n",
    "plt.imshow(np.reshape(X[0], (28, 28)), cmap='gray')\n",
    "plt.show()"
   ]
  },
  {
   "cell_type": "code",
   "execution_count": 8,
   "metadata": {},
   "outputs": [
    {
     "name": "stdout",
     "output_type": "stream",
     "text": [
      "Extracting train-labels-idx1-ubyte.gz\n",
      "[[5]\n",
      " [0]\n",
      " [4]\n",
      " ...\n",
      " [8]\n",
      " [4]\n",
      " [8]]\n"
     ]
    }
   ],
   "source": [
    "y_dash = utils.extract_labels('train-labels-idx1-ubyte.gz', m).reshape(m, 1)\n",
    "print(y_dash)"
   ]
  },
  {
   "cell_type": "code",
   "execution_count": 17,
   "metadata": {},
   "outputs": [
    {
     "data": {
      "text/plain": [
       "5.0"
      ]
     },
     "execution_count": 17,
     "metadata": {},
     "output_type": "execute_result"
    }
   ],
   "source": [
    "train_data = np.hstack((X, y_dash))\n",
    "train_data.shape\n",
    "train_data[0][-1]"
   ]
  },
  {
   "cell_type": "code",
   "execution_count": 52,
   "metadata": {},
   "outputs": [
    {
     "name": "stdout",
     "output_type": "stream",
     "text": [
      "len(batch) = 32\n",
      "batch.shape = (32, 785)\n",
      "X.shape = (32, 784)\n",
      "\n",
      "f1.shape = (8, 1, 5, 5)\n",
      "b1.shape = (8, 1)\n",
      "X.shape = (32, 1, 28, 28)\n",
      "X[0].shape = (1, 28, 28)\n",
      "\n",
      "y =\n",
      "[[0.]\n",
      " [0.]\n",
      " [0.]\n",
      " [0.]\n",
      " [0.]\n",
      " [1.]\n",
      " [0.]\n",
      " [0.]\n",
      " [0.]\n",
      " [0.]]\n"
     ]
    }
   ],
   "source": [
    "from CNN.utils import *\n",
    "\n",
    "batch_size = 32\n",
    "batches = [train_data[k:k + batch_size] for k in range(0, train_data.shape[0], batch_size)]\n",
    "batch = batches[0]\n",
    "print(\"len(batch) =\", len(batch))\n",
    "print(\"batch.shape =\", batch.shape)\n",
    "X = batch[:,0:-1]\n",
    "print(\"X.shape =\", X.shape)\n",
    "print()\n",
    "\n",
    "Y = batch[:,-1] # get batch labels\n",
    "\n",
    "## Initializing all the parameters\n",
    "num_filt1 = 8\n",
    "num_filt2 = 8\n",
    "f = 5\n",
    "num_classes = 10\n",
    "lr = 0.01\n",
    "img_dim = 28\n",
    "img_depth = 1\n",
    "beta1 = 0.95\n",
    "beta2 = 0.99\n",
    "\n",
    "f1, f2, w3, w4 = (num_filt1, img_depth, f, f), (num_filt2, num_filt1, f, f), (128, 800), (10, 128)\n",
    "f1 = initializeFilter(f1)\n",
    "f2 = initializeFilter(f2)\n",
    "w3 = initializeWeight(w3)\n",
    "w4 = initializeWeight(w4)\n",
    "\n",
    "print(\"f1.shape =\", f1.shape)\n",
    "\n",
    "b1 = np.zeros((f1.shape[0],1))\n",
    "b2 = np.zeros((f2.shape[0],1))\n",
    "b3 = np.zeros((w3.shape[0],1))\n",
    "b4 = np.zeros((w4.shape[0],1))\n",
    "\n",
    "print(\"b1.shape =\", b1.shape)\n",
    "\n",
    "params = [f1, f2, w3, w4, b1, b2, b3, b4]\n",
    "\n",
    "## params, cost = adamGD(batch, num_classes, lr, img_dim, img_depth, beta1, beta2, params, cost)\n",
    "# Step in adamGD(batch, num_classes, lr, dim, n_c, beta1, beta2, params, cost)\n",
    "# n_c: number of channels\n",
    "\n",
    "X = X.reshape(len(batch), img_depth, img_dim, img_dim)\n",
    "print(\"X.shape =\", X.shape)\n",
    "print(\"X[0].shape =\", X[0].shape)\n",
    "\n",
    "i = 0\n",
    "x = X[i] # shape = (1, 28, 28)\n",
    "y = np.eye(num_classes)[int(Y[i])].reshape(num_classes, 1) # convert label to one-hot\n",
    "print()\n",
    "print(\"y =\")\n",
    "print(y)\n",
    "\n",
    "\n",
    "## grads, loss = conv(x, y, params, 1, 2, 2)\n",
    "# Step in conv(image, label, params, conv_s, pool_f, pool_s)\n",
    "conv_s = 1\n",
    "pool_f = 2\n",
    "pool_s = 2"
   ]
  },
  {
   "cell_type": "code",
   "execution_count": null,
   "metadata": {},
   "outputs": [],
   "source": [
    "def convolution(image, filt, bias, s=1):\n",
    "    '''\n",
    "    Confolves `filt` over `image` using stride `s`\n",
    "    '''\n",
    "    # n_f: number of filters\n",
    "    # n_c_f: number of channels of each filter\n",
    "    # f: dimension of each filter\n",
    "    # ignore the last dimension because filter is a square matrix\n",
    "    (n_f, n_c_f, f, _) = filt.shape # filter dimensions\n",
    "    \n",
    "    # n_c: number of channels\n",
    "    # im_dim: dimension of input image\n",
    "    # ignore the last dimension because input image is a square matrix\n",
    "    n_c, im_dim, _ = image.shape # image dimensions: (1, 28, 28)\n",
    "    \n",
    "    out_dim = int((im_dim - f)/s)+1 # calculate output dimensions\n",
    "\n",
    "    # image depth must equal filter depth\n",
    "    assert n_c == n_c_f, \"Dimensions of filter must match dimensions of input image\"\n",
    "    \n",
    "    out = np.zeros((n_f, out_dim, out_dim))\n",
    "    \n",
    "    # convolve the filter over every part of the image, adding the bias at each step. \n",
    "    # curr_f: filter index: 0, 1, 2, 3, 4, 5, 6, 7\n",
    "    # curr_y: current y index of the input image matrix: 0, 1, 2, 3, ..., 27\n",
    "    # curr_x: current x index of the input image matrix: 0, 1, 2, 3, ..., 27\n",
    "    # out_y: y index of the output matrix: 0, 1, 2, 3, ..., out_dim\n",
    "    # out_x: x index of the output matrix: 0, 1, 2, 3, ..., out_dim\n",
    "    # image.shape = (1, 28, 28)\n",
    "    for i in range(n_f):\n",
    "        ft = filt[i]\n",
    "\n",
    "        # go along y\n",
    "        im_y = out_y = 0\n",
    "        while im_y + f <= im_dim:\n",
    "\n",
    "            # go along x\n",
    "            im_x = out_x = 0\n",
    "            while im_x + f <= im_dim:\n",
    "                region = image[:, im_y:(im_y + f), im_x:(im_x + f)]\n",
    "                out[i, out_y, out_x] = np.sum(ft * region) + bias[i]\n",
    "                im_x += s\n",
    "                out_x += 1\n",
    "            im_y += s\n",
    "            out_y += 1\n",
    "        \n",
    "    return out\n",
    "\n",
    "# f1.shape = (8, 1, 5, 5)\n",
    "# b1.shape = (8, 1)\n",
    "conv1 = convolution(x, f1, b1, conv_s) # convolution operation"
   ]
  },
  {
   "cell_type": "code",
   "execution_count": 61,
   "metadata": {},
   "outputs": [
    {
     "name": "stdout",
     "output_type": "stream",
     "text": [
      "(8, 24, 24)\n"
     ]
    },
    {
     "data": {
      "image/png": "[encoded data removed]",
      "text/plain": [
       "<Figure size 1440x720 with 8 Axes>"
      ]
     },
     "metadata": {
      "needs_background": "light"
     },
     "output_type": "display_data"
    }
   ],
   "source": [
    "print(conv1.shape)\n",
    "fig = plt.figure(figsize=(20, 10))\n",
    "for i in range(f1.shape[0]):\n",
    "    ax = fig.add_subplot(2, 4, i + 1)\n",
    "    ax.imshow(conv1[i])\n",
    "plt.show()"
   ]
  },
  {
   "cell_type": "code",
   "execution_count": null,
   "metadata": {},
   "outputs": [],
   "source": [
    "def maxpool(image, f=2, s=2):\n",
    "    '''\n",
    "    Downsample `image` using kernel size `f` and stride `s`\n",
    "    '''\n",
    "    n_c, h_prev, w_prev = image.shape\n",
    "    \n",
    "    h = int((h_prev - f)/s)+1\n",
    "    w = int((w_prev - f)/s)+1\n",
    "    \n",
    "    downsampled = np.zeros((n_c, h, w))\n",
    "    for i in range(n_c):\n",
    "        # slide maxpool window over each part of the image and assign the max value at each step to the output\n",
    "        curr_y = out_y = 0\n",
    "        while curr_y + f <= h_prev:\n",
    "            curr_x = out_x = 0\n",
    "            while curr_x + f <= w_prev:\n",
    "                downsampled[i, out_y, out_x] = np.max(image[i, curr_y:curr_y+f, curr_x:curr_x+f])\n",
    "                curr_x += s\n",
    "                out_x += 1\n",
    "            curr_y += s\n",
    "            out_y += 1\n",
    "    return downsampled\n"
   ]
  }
 ],
 "metadata": {
  "kernelspec": {
   "display_name": "Python 3",
   "language": "python",
   "name": "python3"
  },
  "language_info": {
   "codemirror_mode": {
    "name": "ipython",
    "version": 3
   },
   "file_extension": ".py",
   "mimetype": "text/x-python",
   "name": "python",
   "nbconvert_exporter": "python",
   "pygments_lexer": "ipython3",
   "version": "3.8.0"
  }
 },
 "nbformat": 4,
 "nbformat_minor": 4
}
