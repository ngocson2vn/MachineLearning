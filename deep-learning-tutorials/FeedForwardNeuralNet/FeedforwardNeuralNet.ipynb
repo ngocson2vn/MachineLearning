{
 "cells": [
  {
   "cell_type": "markdown",
   "metadata": {},
   "source": [
    "# Feedforward Neural Networks\n",
    "\n",
    "This Jupyter notebook accompanies the blog post on Feedforward Neural Networks"
   ]
  },
  {
   "cell_type": "markdown",
   "metadata": {},
   "source": [
    "First, we will import the dependencies - **numpy**, the python linear algebra library, **pandas** to load and preprocess the input data and **matplotlib** for visualisation purposes."
   ]
  },
  {
   "cell_type": "code",
   "execution_count": 1,
   "metadata": {},
   "outputs": [],
   "source": [
    "import numpy as np\n",
    "import pandas as pd\n",
    "import matplotlib.pyplot as plt"
   ]
  },
  {
   "cell_type": "markdown",
   "metadata": {},
   "source": [
    "We are going to be using the same datasets as with the linear and logistic regression models - to provide a comparison. The code for pre-processing the data is as follows, go to the <a href=\"https://github.com/mukul-rathi/blogPost-tutorials/blob/master/LinearLogisticRegression/LinearLogisticRegression.ipynb\"> Linear/Logistic Regression notebook </a> for a more detailed explanation of the code.\n",
    "\n",
    "<p> First, the house dataset - this is the dataset we used for linear regression. </p>"
   ]
  },
  {
   "cell_type": "code",
   "execution_count": 2,
   "metadata": {},
   "outputs": [],
   "source": [
    "house_dataset = pd.read_csv(\"../LinearLogisticRegression/boston-housing-dataset/train.csv\")\n",
    "house_dataset.drop(\"ID\", axis=1, inplace=True)\n",
    "house_dataset = house_dataset.reindex(np.random.permutation(house_dataset.index))\n",
    "#normalise the input features - this ensures they are all in the same range 0-1. \n",
    "house_dataset.loc[:, house_dataset.columns!=\"medv\"] -= house_dataset.loc[:, house_dataset.columns!=\"medv\"].mean()\n",
    "house_dataset.loc[:, house_dataset.columns!=\"medv\"] /= house_dataset.loc[:, house_dataset.columns!=\"medv\"].std()\n",
    "\n",
    "#transpose to get correct dimensions\n",
    "X_lin_train = house_dataset.loc[:house_dataset.shape[0]*4//5, house_dataset.columns!=\"medv\"].as_matrix().T \n",
    "Y_lin_train = house_dataset.loc[:house_dataset.shape[0]*4//5, [\"medv\"]].as_matrix().T\n",
    "\n",
    "X_lin_test = house_dataset.loc[house_dataset.shape[0]*4//5:, house_dataset.columns!=\"medv\"].as_matrix().T \n",
    "Y_lin_test = house_dataset.loc[house_dataset.shape[0]*4//5:, [\"medv\"]].as_matrix().T\n"
   ]
  },
  {
   "cell_type": "markdown",
   "metadata": {},
   "source": [
    "Next we will import the breast cancer dataset - used for logistic regression"
   ]
  },
  {
   "cell_type": "code",
   "execution_count": 3,
   "metadata": {},
   "outputs": [],
   "source": [
    "cancer_dataset = pd.read_csv(\"../LinearLogisticRegression/breast-cancer-dataset/data.csv\")\n",
    "cancer_dataset.drop([\"id\",'Unnamed: 32'], axis=1, inplace=True)\n",
    "cancer_dataset[\"diagnosis\"] = cancer_dataset[\"diagnosis\"].apply(lambda x: 1 if (x==\"M\") else 0)\n",
    "#shuffle data\n",
    "cancer_dataset = cancer_dataset.reindex(np.random.permutation(cancer_dataset.index))\n",
    "\n",
    "#normalise the input features - this ensures they are all in the same range 0-1. \n",
    "cancer_dataset.loc[:, cancer_dataset.columns!=\"diagnosis\"] -= cancer_dataset.loc[:, cancer_dataset.columns!=\"diagnosis\"].mean()\n",
    "cancer_dataset.loc[:, cancer_dataset.columns!=\"diagnosis\"] /= cancer_dataset.loc[:, cancer_dataset.columns!=\"diagnosis\"].std()\n",
    "\n",
    "X_log_train = cancer_dataset.loc[:cancer_dataset.shape[0]*4//5, cancer_dataset.columns!=\"diagnosis\"].as_matrix().T \n",
    "Y_log_train = cancer_dataset.loc[:cancer_dataset.shape[0]*4//5, [\"diagnosis\"]].as_matrix().T \n",
    "\n",
    "X_log_test = cancer_dataset.loc[cancer_dataset.shape[0]*4//5:, cancer_dataset.columns!=\"diagnosis\"].as_matrix().T \n",
    "Y_log_test = cancer_dataset.loc[cancer_dataset.shape[0]*4//5:, [\"diagnosis\"]].as_matrix().T \n",
    "\n"
   ]
  },
  {
   "cell_type": "markdown",
   "metadata": {},
   "source": [
    "# Creating the neural network:\n",
    "\n",
    "Having preprocessed our data into matrices, it is now time to create the feedforward neural network. "
   ]
  },
  {
   "cell_type": "markdown",
   "metadata": {},
   "source": [
    "First we need to initialise parameters: the weights and biases for each layer.\n",
    "\n",
    "The weights for layer *$l$* are stored in *$ W^{(l)}$*, a *$n_l$ x $n_{(l-1)}$* matrix, where *$n_l$* is the number of units in layer *$l$*. \n",
    "We  initialise the weights randomly from a Gaussian distribution ($\\mu=0, \\sigma =1$) to break symmetry, and multiply by 0.001 to ensure weights aren't too large.\n",
    "\n",
    "The biases for layer *$l$* are stored in *$ b^{(l)}$*, which is a *$n_l$ x 1* matrix."
   ]
  },
  {
   "cell_type": "code",
   "execution_count": 4,
   "metadata": {},
   "outputs": [],
   "source": [
    "def initialise_parameters(layers_units):\n",
    "    parameters = {}            # create a dictionary containing the parameters\n",
    "    for l in range(1, len(layers_units)):\n",
    "        parameters['W' + str(l)] = 0.001* np.random.randn(layers_units[l],layers_units[l-1])\n",
    "        parameters['b' + str(l)] = np.zeros((layers_units[l],1))\n",
    "    return parameters"
   ]
  },
  {
   "cell_type": "markdown",
   "metadata": {},
   "source": [
    "The activation function $g(z)$ we will be using is the ReLU function $g(z) = max(0,z)$ in the hidden layers.\n",
    "\n",
    "<br> The only difference in the neural net between regression and classification is the final layer - whether we use the sigmoid function in the final layer, depending on whether we want to do regression or classification. \n",
    "\n",
    "NB: Although the ReLU function is technically non-differentiable when $z=0$, in practice we can set the derivative=0 at $z=0$."
   ]
  },
  {
   "cell_type": "code",
   "execution_count": 5,
   "metadata": {},
   "outputs": [],
   "source": [
    "def sigmoid(z):\n",
    "    return 1/(1+np.exp(-z))\n",
    "\n",
    "def relu(z, deriv = False):\n",
    "    if(deriv):\n",
    "        return z>0\n",
    "    else:\n",
    "        return np.multiply(z, z>0)"
   ]
  },
  {
   "cell_type": "markdown",
   "metadata": {},
   "source": [
    "We can now write the code for the forward propagation step.\n",
    "\n",
    "In each layer $l$ , we matrix multiply the output of the previous layer $A^{(l-1)}$  by a weight matrix $W^{(l)}$ and then add a bias term $b^{(l)}$. We then take the result $Z^{(l)}$ and apply the activation function $g(z)$ to it to get the output $A^{(l)}$. $L$ = number of layers.\n",
    "The equations are thus:\n",
    "$$Z^{(l)}=W^{(l)}A^{(l-1)}$$\n",
    "$$A^{(l)}=g(Z^{(l)})$$\n"
   ]
  },
  {
   "cell_type": "code",
   "execution_count": 6,
   "metadata": {},
   "outputs": [],
   "source": [
    "def forward_propagation(X,parameters,linear):\n",
    "    cache = {}\n",
    "    L = len(parameters)//2 #final layer\n",
    "    cache[\"A0\"] = X #ease of notation since input = layer 0\n",
    "    for l in range(1, L):\n",
    "        cache['Z' + str(l)] = np.dot(parameters['W' + str(l)],cache['A' + str(l-1)]) + parameters['b' + str(l)]\n",
    "        cache['A' + str(l)] = relu(cache['Z' + str(l)])\n",
    "    #final layer\n",
    "    cache['Z' + str(L)] = np.dot(parameters['W' + str(L)],cache['A' + str(L-1)]) + parameters['b' + str(L)]\n",
    "    cache['A' + str(L)] =cache['Z' + str(L)] if linear else sigmoid(cache['Z' + str(L)])\n",
    "    return cache "
   ]
  },
  {
   "cell_type": "markdown",
   "metadata": {},
   "source": [
    "Next we can compute the loss function - this is the objective function the neural network will aim to minimise during training:\n",
    "\n",
    "$m$ = number of training examples, $(x^{(i)},y^{(i)})$ is the $i^{th}$ training example.\n",
    "<br> For regression: \n",
    "$$ J(W^{(1)}, b^{(1)},...) = \\frac{1}{2m} \\sum_{i=1}^{m} (a^{(L) (i)} - y^{(i)})^2 $$\n",
    "\n",
    "\n",
    "For classification: \n",
    "\n",
    "$$J(W^{(1)}, b^{(1)},...) = -\\frac{1}{m} \\sum\\limits_{i = 1}^{m} y^{(i)}\\log\\left(a^{(L) (i)}\\right) + (1-y^{(i)})\\log\\left(1- a^{(L)(i)}\\right) $$\n",
    "\n"
   ]
  },
  {
   "cell_type": "code",
   "execution_count": 7,
   "metadata": {},
   "outputs": [],
   "source": [
    "def cost_function(AL,Y, linear):\n",
    "    m = Y.shape[1]\n",
    "    if linear:\n",
    "        cost = (1/(2*m))*(np.sum(np.square(AL-Y)))\n",
    "    else:\n",
    "        cost = (-1/m)*( np.sum(np.multiply(Y,np.log(AL))) + np.sum(np.multiply((1-Y),np.log(1-AL))))\n",
    "    return cost"
   ]
  },
  {
   "cell_type": "markdown",
   "metadata": {},
   "source": [
    "Now we will code the backpropagation algorithm. This will enable us to calculate the partial derivative of the cost function with respect to each of the weights and biases in each of the layers of the network. The equations can be derived using the multivariable chain rule and are the same for both regression and classification:\n",
    "$$\\frac{\\partial \\mathcal{J} }{\\partial Z^{(L)}} = A^{(L)} - Y$$ \n",
    "\n",
    "\n",
    "$$ \\frac{\\partial \\mathcal{J} }{\\partial W^{(l)}} = \\frac{1}{m}\\frac{\\partial \\mathcal{J} }{\\partial Z^{(l)}} A^{(l-1) T} $$\n",
    "\n",
    "$$ \\frac{\\partial \\mathcal{J} }{\\partial b^{(l)}} = \\frac{1}{m} \\sum_{i = 1}^{m} \\frac{\\partial \\mathcal{J} }{\\partial Z^{(l)(i)}}$$\n",
    "\n",
    "$$ \\frac{\\partial \\mathcal{J} }{\\partial A^{(l-1)}} = W^{(l) T} \\frac{\\partial \\mathcal{J} }{\\partial Z^{(l)}} $$\n",
    "$$ \\frac{\\partial \\mathcal{J} }{\\partial Z^{(l-1)}} = \\frac{\\partial \\mathcal{J} }{\\partial A^{(l-1)}}*g^{'}(Z^{(l-1)})$$\n",
    "\n",
    "\n"
   ]
  },
  {
   "cell_type": "code",
   "execution_count": 8,
   "metadata": {},
   "outputs": [],
   "source": [
    "def backpropagation(cache,Y,parameters):\n",
    "    L = len(parameters)//2 \n",
    "    m = Y.shape[1]\n",
    "    grads = {}\n",
    "    grads[\"dZ\" + str(L)]= cache[\"A\" + str(L)] - Y\n",
    "    grads[\"dW\" + str(L)]= (1/m)*np.dot(grads[\"dZ\" + str(L)],cache[\"A\" + str(L-1)].T) \n",
    "    grads[\"db\" + str(L)]= (1/m)*np.sum(grads[\"dZ\" + str(L)],axis=1,keepdims=True)\n",
    "    for l in range(L-1,0,-1):\n",
    "        grads[\"dA\" + str(l)]= np.dot(parameters[\"W\" + str(l+1)].T,grads[\"dZ\" + str(l+1)])\n",
    "        grads[\"dZ\" + str(l)]= np.multiply(grads[\"dA\" + str(l)], relu(cache[\"Z\" + str(l)], deriv = True))\n",
    "        grads[\"dW\" + str(l)]= (1/m)*np.dot(grads[\"dZ\" + str(l)],cache[\"A\" + str(l-1)].T) \n",
    "        grads[\"db\" + str(l)]= (1/m)*np.sum(grads[\"dZ\" + str(l)],axis=1,keepdims=True)\n",
    "    return grads"
   ]
  },
  {
   "cell_type": "markdown",
   "metadata": {},
   "source": [
    "We need to have an evaluation metric to see if the model is actually learning.\n",
    "\n",
    "For regression, we use Mean Squared Error.\n",
    "\n",
    "For classification, since the data is skewed, accuracy is not a good metric. So instead we will use the F1 score. The equation for F1 score is as follows:\n",
    "$$ Precision = \\frac{True \\space Positive}{True\\space Positive + False \\space Positive}$$\n",
    "    \n",
    "$$Recall = \\frac{True \\space Positive}{True\\space Positive + False \\space Negative} $$\n",
    "\n",
    "$$F1\\space Score = \\frac{2*Precision*Recall}{Precision + Recall} $$\n",
    "\n",
    "The F1 score returns a value between 0 and 1 and a higher score means the performance of the model is better."
   ]
  },
  {
   "cell_type": "code",
   "execution_count": 9,
   "metadata": {},
   "outputs": [],
   "source": [
    "def F1_score(AL, Y):\n",
    "    prediction = (AL >= (np.ones_like(AL)/2))\n",
    "    \n",
    "    truth_pos = (Y == np.ones_like(Y))\n",
    "    truth_neg = (Y == np.zeros_like(Y))\n",
    "    pred_pos = (prediction == np.ones_like(prediction))\n",
    "    pred_neg = (prediction == np.zeros_like(prediction))\n",
    "\n",
    "    true_pos = np.sum(np.logical_and(truth_pos,pred_pos))\n",
    "    if true_pos == 0: #This prevents an undefined computation since precision=recall=0 \n",
    "        return 0\n",
    "    false_pos =np.sum(np.logical_and(truth_neg,pred_pos))\n",
    "    false_neg =np.sum(np.logical_and(truth_pos,pred_neg))\n",
    "    true_neg =np.sum(np.logical_and(truth_neg,pred_neg))\n",
    "\n",
    "    precision = true_pos/(true_pos + false_pos)\n",
    "    recall = (true_pos)/(true_pos + false_neg)\n",
    "    F1_score = 2*(recall*precision) /(recall + precision)\n",
    "    return F1_score"
   ]
  },
  {
   "cell_type": "code",
   "execution_count": 10,
   "metadata": {},
   "outputs": [],
   "source": [
    "def evaluation_metric(AL, Y, linear):\n",
    "    if linear:\n",
    "        return cost_function(AL,Y,linear) #MSE for regression\n",
    "    else:\n",
    "        return F1_score(AL, Y) #F1 score for classification"
   ]
  },
  {
   "cell_type": "markdown",
   "metadata": {
    "collapsed": true
   },
   "source": [
    "Now let's combine the functions created so far to create a model and train it using  gradient descent. \n",
    "\n",
    "The update equations for the parameters are as follows:\n",
    "$$ W^{(l)} = W^{(l)} - \\alpha \\frac{\\partial \\mathcal{J} }{\\partial W^{(l)}} $$\n",
    "\n",
    "$$ b^{(l)} = b^{(l)} - \\alpha \\frac{\\partial \\mathcal{J} }{\\partial b^{(l)}} $$\n",
    "\n",
    "where $\\alpha$ is the learning rate parameter."
   ]
  },
  {
   "cell_type": "code",
   "execution_count": 11,
   "metadata": {},
   "outputs": [],
   "source": [
    "def train_model(X_train, Y_train,num_epochs,layers_units,learning_rate, linear):\n",
    "    train_costs = []\n",
    "    \n",
    "    parameters = initialise_parameters(layers_units)\n",
    "    L = len(layers_units)-1 \n",
    "    for epoch in range (num_epochs):\n",
    "        #perform one cycle of forward and backward propagation to get the partial derivatives w.r.t. the weights\n",
    "        #and biases. Calculate the cost - used to monitor training\n",
    "        cache = forward_propagation(X_train,parameters,linear)\n",
    "        cost = cost_function(cache[\"A\" + str(L)],Y_train,linear)\n",
    "        grads = backpropagation(cache,Y_train,parameters)\n",
    "\n",
    "        #update the parameters using gradient descent\n",
    "        for l in range(1,L+1):\n",
    "            parameters[\"W\" + str(l)] = parameters[\"W\" + str(l)] - learning_rate*grads[\"dW\" + str(l)]\n",
    "            parameters[\"W\" + str(l)] = parameters[\"W\" + str(l)] - learning_rate*grads[\"db\" + str(l)]\n",
    "\n",
    "        #periodically output an update on the current cost and performance on the dev set for visualisation\n",
    "        train_costs.append(cost)\n",
    "        if(epoch%(num_epochs//10)==0):\n",
    "            print(\"Training the model, epoch: \" + str(epoch+1))\n",
    "            print(\"Cost after epoch \" + str((epoch)) + \": \" + str(cost))\n",
    "    print(\"Training complete!\")\n",
    "    #return the trained parameters and the visualisation metrics\n",
    "    return parameters, train_costs"
   ]
  },
  {
   "cell_type": "markdown",
   "metadata": {},
   "source": [
    "To evaluate the model, we visualise the training set error over the number of iterations. We then output the final value of the evaluation metric for training and test sets."
   ]
  },
  {
   "cell_type": "code",
   "execution_count": 12,
   "metadata": {},
   "outputs": [],
   "source": [
    "def evaluate_model(train_costs,parameters,X_train, Y_train, X_test, Y_test, linear):\n",
    "    #plot the graphs of training set error\n",
    "    plt.plot(np.squeeze(train_costs))\n",
    "    plt.ylabel('Cost')\n",
    "    plt.xlabel('Iterations')\n",
    "    plt.title(\"Training Set Error\")\n",
    "    plt.show()\n",
    "    L = len(parameters)//2\n",
    "    \n",
    "    #For train and test sets, perform a step of forward propagation to obtain the trained model's \n",
    "    #predictions and evaluate this with an F1 score.\n",
    "    train_cache = forward_propagation(X_train,parameters,linear)\n",
    "    train_AL = train_cache[\"A\"+ str(L)]\n",
    "    if linear: \n",
    "         print(\"The train set MSE is: \"+str(evaluation_metric(train_AL,Y_train, linear)))\n",
    "    else:\n",
    "        print(\"The train set F1 score is: \"+str(evaluation_metric(train_AL,Y_train, linear)))\n",
    "    \n",
    "    test_cache = forward_propagation(X_test,parameters, linear)\n",
    "    test_AL = test_cache[\"A\"+ str(L)]\n",
    "    if linear:\n",
    "                print(\"The test set MSE is: \"+str(evaluation_metric(test_AL,Y_test, linear)))\n",
    "    else:\n",
    "        print(\"The test set F1 score is: \"+str(evaluation_metric(test_AL,Y_test, linear)))"
   ]
  },
  {
   "cell_type": "markdown",
   "metadata": {},
   "source": [
    "We now can write the overall function to run the neural network - this ensures it is easy to run subsequent models by packaging all the functions into one line of code."
   ]
  },
  {
   "cell_type": "code",
   "execution_count": 13,
   "metadata": {},
   "outputs": [],
   "source": [
    "def run_model(X_train, Y_train, X_test, Y_test, hyperparameters, linear=True):\n",
    "    num_epochs = hyperparameters[\"num_epochs\"]\n",
    "    layers_units = hyperparameters[\"layers_units\"]\n",
    "    learning_rate = hyperparameters[\"learning_rate\"]\n",
    "    \n",
    "    parameters, train_costs = train_model(X_train, Y_train ,num_epochs,layers_units,learning_rate,linear)         \n",
    "    evaluate_model(train_costs,parameters,X_train, Y_train, X_test, Y_test,linear)"
   ]
  },
  {
   "cell_type": "code",
   "execution_count": 14,
   "metadata": {},
   "outputs": [],
   "source": [
    "#define the hyperparameters for the model\n",
    "def create_hyperparameters(X, num_epochs):\n",
    "    hyperparameters={}\n",
    "    hyperparameters[\"num_epochs\"] = num_epochs #number of passes through the training set\n",
    "    hyperparameters[\"layers_units\"] = [X.shape[0], 64, 64,32, 1] #layer 0 is the input layer\n",
    "    hyperparameters[\"learning_rate\"] = 1e-3\n",
    "    return hyperparameters"
   ]
  },
  {
   "cell_type": "code",
   "execution_count": 15,
   "metadata": {},
   "outputs": [
    {
     "name": "stdout",
     "output_type": "stream",
     "text": [
      "Training the model, epoch: 1\n",
      "Cost after epoch 0: 317.1803170720049\n",
      "Training the model, epoch: 101\n",
      "Cost after epoch 100: 20.39806761100618\n",
      "Training the model, epoch: 201\n",
      "Cost after epoch 200: 7.032355284852191\n",
      "Training the model, epoch: 301\n",
      "Cost after epoch 300: 5.376387288679558\n",
      "Training the model, epoch: 401\n",
      "Cost after epoch 400: 4.366280149491956\n",
      "Training the model, epoch: 501\n",
      "Cost after epoch 500: 3.722877431000237\n",
      "Training the model, epoch: 601\n",
      "Cost after epoch 600: 3.325948906267952\n",
      "Training the model, epoch: 701\n",
      "Cost after epoch 700: 3.0425293025870928\n",
      "Training the model, epoch: 801\n",
      "Cost after epoch 800: 2.7836146928966983\n",
      "Training the model, epoch: 901\n",
      "Cost after epoch 900: 2.5920008899660942\n",
      "Training complete!\n"
     ]
    },
    {
     "data": {
      "image/png": "[encoded data removed]",
      "text/plain": [
       "<matplotlib.figure.Figure at 0x1150baef0>"
      ]
     },
     "metadata": {},
     "output_type": "display_data"
    },
    {
     "name": "stdout",
     "output_type": "stream",
     "text": [
      "The train set MSE is: 2.47320001814079\n",
      "The test set MSE is: 12.144280011641133\n"
     ]
    }
   ],
   "source": [
    "hyperparameters = create_hyperparameters(X_lin_train, 1000)\n",
    "run_model(X_lin_train, Y_lin_train, X_lin_test, Y_lin_test,hyperparameters, linear=True)"
   ]
  },
  {
   "cell_type": "code",
   "execution_count": 16,
   "metadata": {},
   "outputs": [
    {
     "name": "stdout",
     "output_type": "stream",
     "text": [
      "Training the model, epoch: 1\n",
      "Cost after epoch 0: 0.6931471805415712\n",
      "Training the model, epoch: 7001\n",
      "Cost after epoch 7000: 0.42260983689735593\n",
      "Training the model, epoch: 14001\n",
      "Cost after epoch 14000: 0.3875974239952056\n",
      "Training the model, epoch: 21001\n",
      "Cost after epoch 21000: 0.36185435291421825\n",
      "Training the model, epoch: 28001\n",
      "Cost after epoch 28000: 0.34686309512342506\n",
      "Training the model, epoch: 35001\n",
      "Cost after epoch 35000: 0.3333749820469602\n",
      "Training the model, epoch: 42001\n",
      "Cost after epoch 42000: 0.3225978118573446\n"
     ]
    },
    {
     "name": "stderr",
     "output_type": "stream",
     "text": [
      "/anaconda3/lib/python3.6/site-packages/ipykernel_launcher.py:6: RuntimeWarning: divide by zero encountered in log\n",
      "  \n",
      "/anaconda3/lib/python3.6/site-packages/ipykernel_launcher.py:6: RuntimeWarning: invalid value encountered in multiply\n",
      "  \n"
     ]
    },
    {
     "name": "stdout",
     "output_type": "stream",
     "text": [
      "Training the model, epoch: 49001\n",
      "Cost after epoch 49000: nan\n",
      "Training the model, epoch: 56001\n",
      "Cost after epoch 56000: nan\n",
      "Training the model, epoch: 63001\n",
      "Cost after epoch 63000: nan\n",
      "Training complete!\n"
     ]
    },
    {
     "data": {
      "image/png": "[encoded data removed]",
      "text/plain": [
       "<matplotlib.figure.Figure at 0x1150bab70>"
      ]
     },
     "metadata": {},
     "output_type": "display_data"
    },
    {
     "name": "stdout",
     "output_type": "stream",
     "text": [
      "The train set F1 score is: 0.9800796812749003\n",
      "The test set F1 score is: 0.925925925925926\n"
     ]
    }
   ],
   "source": [
    "hyperparameters = create_hyperparameters(X_log_train,75000)\n",
    "run_model(X_log_train, Y_log_train, X_log_test, Y_log_test,hyperparameters, linear=False)"
   ]
  },
  {
   "cell_type": "markdown",
   "metadata": {},
   "source": [
    "Comparing with the linear and logistic regression models it is clear that the neural network outperforms these two algorithms. \n",
    "\n",
    "**Performance on Test Sets:**\n",
    "\n",
    "    Linear Regression: MSE of 12.144280011641133 vs 24.35323181847871\n",
    "\n",
    "    Logistic Regression: F1 score of 0.925925925925926 vs 0.918918918918919\n",
    "\n",
    "However, what is interesting to note is that the neural net performs much worse on the test set compared to the training set - this is known as **overfitting**. \n",
    "\n",
    "In future blog posts, we will look at this issue, as well as looking at techniques that can improve gradient descent for learning."
   ]
  },
  {
   "cell_type": "code",
   "execution_count": null,
   "metadata": {},
   "outputs": [],
   "source": []
  },
  {
   "cell_type": "code",
   "execution_count": null,
   "metadata": {},
   "outputs": [],
   "source": []
  },
  {
   "cell_type": "code",
   "execution_count": null,
   "metadata": {},
   "outputs": [],
   "source": []
  }
 ],
 "metadata": {
  "kernelspec": {
   "display_name": "Python 3",
   "language": "python",
   "name": "python3"
  },
  "language_info": {
   "codemirror_mode": {
    "name": "ipython",
    "version": 3
   },
   "file_extension": ".py",
   "mimetype": "text/x-python",
   "name": "python",
   "nbconvert_exporter": "python",
   "pygments_lexer": "ipython3",
   "version": "3.8.0"
  }
 },
 "nbformat": 4,
 "nbformat_minor": 2
}
