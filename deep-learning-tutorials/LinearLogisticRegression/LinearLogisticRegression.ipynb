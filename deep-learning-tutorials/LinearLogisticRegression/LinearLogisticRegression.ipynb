{
 "cells": [
  {
   "cell_type": "markdown",
   "metadata": {},
   "source": [
    "# Linear and Logistic Regression \n",
    "\n",
    "This Jupyter Notebook accompanies the blog posts on Linear and Logistic Regression found [here](https://mukul-rathi.github.io/blog.html) "
   ]
  },
  {
   "cell_type": "markdown",
   "metadata": {},
   "source": [
    "First of all we will begin by importing the libraries we will need. \n",
    "__Numpy__ is a linear algebra library in Python and we will be using it to do all of the matrix and vector computations in our code.\n",
    "__Pandas__ is used to import our data and clean it up before we pass it to our machine learning algorithms.\n",
    "__Matplotlib__ will allow us to visualise the training process as a graph."
   ]
  },
  {
   "cell_type": "code",
   "execution_count": 2,
   "metadata": {},
   "outputs": [],
   "source": [
    "import numpy as np\n",
    "import pandas as pd\n",
    "import matplotlib.pyplot as plt"
   ]
  },
  {
   "cell_type": "markdown",
   "metadata": {},
   "source": [
    "## Preprocessing the Input\n",
    "\n",
    "Now to import the data - for linear regression. the dataset is on Housing Prices in Boston, sourced from [Kaggle](https://www.kaggle.com/c/boston-housing). This explains which features the abbreviated columns look at. \n",
    "\n",
    "For the purposes of the tutorial, we will split the train.csv file provided by Kaggle into our own train and test set, since the test.csv file doesn't have any labels.\n",
    "\n",
    "**EXTENSION**: run the algorithms on the test.csv (provided in this repo) and submit your predictions to Kaggle!"
   ]
  },
  {
   "cell_type": "code",
   "execution_count": 3,
   "metadata": {},
   "outputs": [
    {
     "data": {
      "text/html": [
       "<div>\n",
       "<style scoped>\n",
       "    .dataframe tbody tr th:only-of-type {\n",
       "        vertical-align: middle;\n",
       "    }\n",
       "\n",
       "    .dataframe tbody tr th {\n",
       "        vertical-align: top;\n",
       "    }\n",
       "\n",
       "    .dataframe thead th {\n",
       "        text-align: right;\n",
       "    }\n",
       "</style>\n",
       "<table border=\"1\" class=\"dataframe\">\n",
       "  <thead>\n",
       "    <tr style=\"text-align: right;\">\n",
       "      <th></th>\n",
       "      <th>ID</th>\n",
       "      <th>crim</th>\n",
       "      <th>zn</th>\n",
       "      <th>indus</th>\n",
       "      <th>chas</th>\n",
       "      <th>nox</th>\n",
       "      <th>rm</th>\n",
       "      <th>age</th>\n",
       "      <th>dis</th>\n",
       "      <th>rad</th>\n",
       "      <th>tax</th>\n",
       "      <th>ptratio</th>\n",
       "      <th>black</th>\n",
       "      <th>lstat</th>\n",
       "      <th>medv</th>\n",
       "    </tr>\n",
       "  </thead>\n",
       "  <tbody>\n",
       "    <tr>\n",
       "      <th>0</th>\n",
       "      <td>1</td>\n",
       "      <td>0.00632</td>\n",
       "      <td>18.0</td>\n",
       "      <td>2.31</td>\n",
       "      <td>0</td>\n",
       "      <td>0.538</td>\n",
       "      <td>6.575</td>\n",
       "      <td>65.2</td>\n",
       "      <td>4.0900</td>\n",
       "      <td>1</td>\n",
       "      <td>296</td>\n",
       "      <td>15.3</td>\n",
       "      <td>396.90</td>\n",
       "      <td>4.98</td>\n",
       "      <td>24.0</td>\n",
       "    </tr>\n",
       "    <tr>\n",
       "      <th>1</th>\n",
       "      <td>2</td>\n",
       "      <td>0.02731</td>\n",
       "      <td>0.0</td>\n",
       "      <td>7.07</td>\n",
       "      <td>0</td>\n",
       "      <td>0.469</td>\n",
       "      <td>6.421</td>\n",
       "      <td>78.9</td>\n",
       "      <td>4.9671</td>\n",
       "      <td>2</td>\n",
       "      <td>242</td>\n",
       "      <td>17.8</td>\n",
       "      <td>396.90</td>\n",
       "      <td>9.14</td>\n",
       "      <td>21.6</td>\n",
       "    </tr>\n",
       "    <tr>\n",
       "      <th>2</th>\n",
       "      <td>4</td>\n",
       "      <td>0.03237</td>\n",
       "      <td>0.0</td>\n",
       "      <td>2.18</td>\n",
       "      <td>0</td>\n",
       "      <td>0.458</td>\n",
       "      <td>6.998</td>\n",
       "      <td>45.8</td>\n",
       "      <td>6.0622</td>\n",
       "      <td>3</td>\n",
       "      <td>222</td>\n",
       "      <td>18.7</td>\n",
       "      <td>394.63</td>\n",
       "      <td>2.94</td>\n",
       "      <td>33.4</td>\n",
       "    </tr>\n",
       "    <tr>\n",
       "      <th>3</th>\n",
       "      <td>5</td>\n",
       "      <td>0.06905</td>\n",
       "      <td>0.0</td>\n",
       "      <td>2.18</td>\n",
       "      <td>0</td>\n",
       "      <td>0.458</td>\n",
       "      <td>7.147</td>\n",
       "      <td>54.2</td>\n",
       "      <td>6.0622</td>\n",
       "      <td>3</td>\n",
       "      <td>222</td>\n",
       "      <td>18.7</td>\n",
       "      <td>396.90</td>\n",
       "      <td>5.33</td>\n",
       "      <td>36.2</td>\n",
       "    </tr>\n",
       "    <tr>\n",
       "      <th>4</th>\n",
       "      <td>7</td>\n",
       "      <td>0.08829</td>\n",
       "      <td>12.5</td>\n",
       "      <td>7.87</td>\n",
       "      <td>0</td>\n",
       "      <td>0.524</td>\n",
       "      <td>6.012</td>\n",
       "      <td>66.6</td>\n",
       "      <td>5.5605</td>\n",
       "      <td>5</td>\n",
       "      <td>311</td>\n",
       "      <td>15.2</td>\n",
       "      <td>395.60</td>\n",
       "      <td>12.43</td>\n",
       "      <td>22.9</td>\n",
       "    </tr>\n",
       "  </tbody>\n",
       "</table>\n",
       "</div>"
      ],
      "text/plain": [
       "   ID     crim    zn  indus  chas    nox     rm   age     dis  rad  tax  \\\n",
       "0   1  0.00632  18.0   2.31     0  0.538  6.575  65.2  4.0900    1  296   \n",
       "1   2  0.02731   0.0   7.07     0  0.469  6.421  78.9  4.9671    2  242   \n",
       "2   4  0.03237   0.0   2.18     0  0.458  6.998  45.8  6.0622    3  222   \n",
       "3   5  0.06905   0.0   2.18     0  0.458  7.147  54.2  6.0622    3  222   \n",
       "4   7  0.08829  12.5   7.87     0  0.524  6.012  66.6  5.5605    5  311   \n",
       "\n",
       "   ptratio   black  lstat  medv  \n",
       "0     15.3  396.90   4.98  24.0  \n",
       "1     17.8  396.90   9.14  21.6  \n",
       "2     18.7  394.63   2.94  33.4  \n",
       "3     18.7  396.90   5.33  36.2  \n",
       "4     15.2  395.60  12.43  22.9  "
      ]
     },
     "execution_count": 3,
     "metadata": {},
     "output_type": "execute_result"
    }
   ],
   "source": [
    "house_dataset = pd.read_csv(\"boston-housing-dataset/train.csv\")\n",
    "house_dataset.head()"
   ]
  },
  {
   "cell_type": "markdown",
   "metadata": {},
   "source": [
    "Next to clean up into the format we want:\n",
    "\n",
    "$X$ = _n x m_ matrix, $Y$ = _1 x m_ matrix.\n",
    "\n",
    "We can remove the ID column, since it is not a feature. \n",
    "\n",
    "We will shuffle the data - this is good practice as it ensures the learning is not affected by a particular ordering of data. \n",
    "\n",
    "We normalise it (so the features are in range [0,1] - we do this using formula $$x_{norm} = \\frac{x - \\mu}{\\sigma}$$ where $\\mu$ = mean and $\\sigma$ = standard deviation.\n",
    "\n",
    "We then split the dataset into train:test in an 80:20 split, and then separate the input features from the labels."
   ]
  },
  {
   "cell_type": "code",
   "execution_count": 4,
   "metadata": {},
   "outputs": [],
   "source": [
    "house_dataset.drop(\"ID\", axis=1, inplace=True)\n",
    "house_dataset = house_dataset.reindex(np.random.permutation(house_dataset.index))\n",
    "\n",
    "#normalise the input features - this ensures they are all in the same range 0-1. \n",
    "house_dataset.loc[:, house_dataset.columns!=\"medv\"] -= house_dataset.loc[:, house_dataset.columns!=\"medv\"].mean()\n",
    "house_dataset.loc[:, house_dataset.columns!=\"medv\"] /= house_dataset.loc[:, house_dataset.columns!=\"medv\"].std()\n",
    "\n",
    "#slice to get train:test split then transpose to get correct dimensions\n",
    "X_lin_train = house_dataset.loc[:house_dataset.shape[0]*4//5, house_dataset.columns!=\"medv\"].values.T \n",
    "Y_lin_train = house_dataset.loc[:house_dataset.shape[0]*4//5, [\"medv\"]].values.T\n",
    "\n",
    "X_lin_test = house_dataset.loc[house_dataset.shape[0]*4//5:, house_dataset.columns!=\"medv\"].values.T\n",
    "Y_lin_test = house_dataset.loc[house_dataset.shape[0]*4//5:, [\"medv\"]].values.T\n"
   ]
  },
  {
   "cell_type": "markdown",
   "metadata": {},
   "source": [
    "Now to load the breast cancer dataset - again this is from <a href=\"https://www.kaggle.com/uciml/breast-cancer-wisconsin-data\">Kaggle</a> (though originally from UCI). To contrast with the other dataset, this dataset has features which seem hard to interpret on their own, unlike with housing prices where we can intuitively make sense of the features - e.g more rooms implies higher price. \n",
    "<br> This is where the power of machine learning comes in - to spot patterns in the data not possible by humans."
   ]
  },
  {
   "cell_type": "code",
   "execution_count": 5,
   "metadata": {},
   "outputs": [
    {
     "data": {
      "text/html": [
       "<div>\n",
       "<style scoped>\n",
       "    .dataframe tbody tr th:only-of-type {\n",
       "        vertical-align: middle;\n",
       "    }\n",
       "\n",
       "    .dataframe tbody tr th {\n",
       "        vertical-align: top;\n",
       "    }\n",
       "\n",
       "    .dataframe thead th {\n",
       "        text-align: right;\n",
       "    }\n",
       "</style>\n",
       "<table border=\"1\" class=\"dataframe\">\n",
       "  <thead>\n",
       "    <tr style=\"text-align: right;\">\n",
       "      <th></th>\n",
       "      <th>id</th>\n",
       "      <th>diagnosis</th>\n",
       "      <th>radius_mean</th>\n",
       "      <th>texture_mean</th>\n",
       "      <th>perimeter_mean</th>\n",
       "      <th>area_mean</th>\n",
       "      <th>smoothness_mean</th>\n",
       "      <th>compactness_mean</th>\n",
       "      <th>concavity_mean</th>\n",
       "      <th>concave points_mean</th>\n",
       "      <th>...</th>\n",
       "      <th>texture_worst</th>\n",
       "      <th>perimeter_worst</th>\n",
       "      <th>area_worst</th>\n",
       "      <th>smoothness_worst</th>\n",
       "      <th>compactness_worst</th>\n",
       "      <th>concavity_worst</th>\n",
       "      <th>concave points_worst</th>\n",
       "      <th>symmetry_worst</th>\n",
       "      <th>fractal_dimension_worst</th>\n",
       "      <th>Unnamed: 32</th>\n",
       "    </tr>\n",
       "  </thead>\n",
       "  <tbody>\n",
       "    <tr>\n",
       "      <th>0</th>\n",
       "      <td>842302</td>\n",
       "      <td>M</td>\n",
       "      <td>17.99</td>\n",
       "      <td>10.38</td>\n",
       "      <td>122.80</td>\n",
       "      <td>1001.0</td>\n",
       "      <td>0.11840</td>\n",
       "      <td>0.27760</td>\n",
       "      <td>0.3001</td>\n",
       "      <td>0.14710</td>\n",
       "      <td>...</td>\n",
       "      <td>17.33</td>\n",
       "      <td>184.60</td>\n",
       "      <td>2019.0</td>\n",
       "      <td>0.1622</td>\n",
       "      <td>0.6656</td>\n",
       "      <td>0.7119</td>\n",
       "      <td>0.2654</td>\n",
       "      <td>0.4601</td>\n",
       "      <td>0.11890</td>\n",
       "      <td>NaN</td>\n",
       "    </tr>\n",
       "    <tr>\n",
       "      <th>1</th>\n",
       "      <td>842517</td>\n",
       "      <td>M</td>\n",
       "      <td>20.57</td>\n",
       "      <td>17.77</td>\n",
       "      <td>132.90</td>\n",
       "      <td>1326.0</td>\n",
       "      <td>0.08474</td>\n",
       "      <td>0.07864</td>\n",
       "      <td>0.0869</td>\n",
       "      <td>0.07017</td>\n",
       "      <td>...</td>\n",
       "      <td>23.41</td>\n",
       "      <td>158.80</td>\n",
       "      <td>1956.0</td>\n",
       "      <td>0.1238</td>\n",
       "      <td>0.1866</td>\n",
       "      <td>0.2416</td>\n",
       "      <td>0.1860</td>\n",
       "      <td>0.2750</td>\n",
       "      <td>0.08902</td>\n",
       "      <td>NaN</td>\n",
       "    </tr>\n",
       "    <tr>\n",
       "      <th>2</th>\n",
       "      <td>84300903</td>\n",
       "      <td>M</td>\n",
       "      <td>19.69</td>\n",
       "      <td>21.25</td>\n",
       "      <td>130.00</td>\n",
       "      <td>1203.0</td>\n",
       "      <td>0.10960</td>\n",
       "      <td>0.15990</td>\n",
       "      <td>0.1974</td>\n",
       "      <td>0.12790</td>\n",
       "      <td>...</td>\n",
       "      <td>25.53</td>\n",
       "      <td>152.50</td>\n",
       "      <td>1709.0</td>\n",
       "      <td>0.1444</td>\n",
       "      <td>0.4245</td>\n",
       "      <td>0.4504</td>\n",
       "      <td>0.2430</td>\n",
       "      <td>0.3613</td>\n",
       "      <td>0.08758</td>\n",
       "      <td>NaN</td>\n",
       "    </tr>\n",
       "    <tr>\n",
       "      <th>3</th>\n",
       "      <td>84348301</td>\n",
       "      <td>M</td>\n",
       "      <td>11.42</td>\n",
       "      <td>20.38</td>\n",
       "      <td>77.58</td>\n",
       "      <td>386.1</td>\n",
       "      <td>0.14250</td>\n",
       "      <td>0.28390</td>\n",
       "      <td>0.2414</td>\n",
       "      <td>0.10520</td>\n",
       "      <td>...</td>\n",
       "      <td>26.50</td>\n",
       "      <td>98.87</td>\n",
       "      <td>567.7</td>\n",
       "      <td>0.2098</td>\n",
       "      <td>0.8663</td>\n",
       "      <td>0.6869</td>\n",
       "      <td>0.2575</td>\n",
       "      <td>0.6638</td>\n",
       "      <td>0.17300</td>\n",
       "      <td>NaN</td>\n",
       "    </tr>\n",
       "    <tr>\n",
       "      <th>4</th>\n",
       "      <td>84358402</td>\n",
       "      <td>M</td>\n",
       "      <td>20.29</td>\n",
       "      <td>14.34</td>\n",
       "      <td>135.10</td>\n",
       "      <td>1297.0</td>\n",
       "      <td>0.10030</td>\n",
       "      <td>0.13280</td>\n",
       "      <td>0.1980</td>\n",
       "      <td>0.10430</td>\n",
       "      <td>...</td>\n",
       "      <td>16.67</td>\n",
       "      <td>152.20</td>\n",
       "      <td>1575.0</td>\n",
       "      <td>0.1374</td>\n",
       "      <td>0.2050</td>\n",
       "      <td>0.4000</td>\n",
       "      <td>0.1625</td>\n",
       "      <td>0.2364</td>\n",
       "      <td>0.07678</td>\n",
       "      <td>NaN</td>\n",
       "    </tr>\n",
       "  </tbody>\n",
       "</table>\n",
       "<p>5 rows × 33 columns</p>\n",
       "</div>"
      ],
      "text/plain": [
       "         id diagnosis  radius_mean  texture_mean  perimeter_mean  area_mean  \\\n",
       "0    842302         M        17.99         10.38          122.80     1001.0   \n",
       "1    842517         M        20.57         17.77          132.90     1326.0   \n",
       "2  84300903         M        19.69         21.25          130.00     1203.0   \n",
       "3  84348301         M        11.42         20.38           77.58      386.1   \n",
       "4  84358402         M        20.29         14.34          135.10     1297.0   \n",
       "\n",
       "   smoothness_mean  compactness_mean  concavity_mean  concave points_mean  \\\n",
       "0          0.11840           0.27760          0.3001              0.14710   \n",
       "1          0.08474           0.07864          0.0869              0.07017   \n",
       "2          0.10960           0.15990          0.1974              0.12790   \n",
       "3          0.14250           0.28390          0.2414              0.10520   \n",
       "4          0.10030           0.13280          0.1980              0.10430   \n",
       "\n",
       "      ...       texture_worst  perimeter_worst  area_worst  smoothness_worst  \\\n",
       "0     ...               17.33           184.60      2019.0            0.1622   \n",
       "1     ...               23.41           158.80      1956.0            0.1238   \n",
       "2     ...               25.53           152.50      1709.0            0.1444   \n",
       "3     ...               26.50            98.87       567.7            0.2098   \n",
       "4     ...               16.67           152.20      1575.0            0.1374   \n",
       "\n",
       "   compactness_worst  concavity_worst  concave points_worst  symmetry_worst  \\\n",
       "0             0.6656           0.7119                0.2654          0.4601   \n",
       "1             0.1866           0.2416                0.1860          0.2750   \n",
       "2             0.4245           0.4504                0.2430          0.3613   \n",
       "3             0.8663           0.6869                0.2575          0.6638   \n",
       "4             0.2050           0.4000                0.1625          0.2364   \n",
       "\n",
       "   fractal_dimension_worst  Unnamed: 32  \n",
       "0                  0.11890          NaN  \n",
       "1                  0.08902          NaN  \n",
       "2                  0.08758          NaN  \n",
       "3                  0.17300          NaN  \n",
       "4                  0.07678          NaN  \n",
       "\n",
       "[5 rows x 33 columns]"
      ]
     },
     "execution_count": 5,
     "metadata": {},
     "output_type": "execute_result"
    }
   ],
   "source": [
    "cancer_dataset = pd.read_csv(\"breast-cancer-dataset/data.csv\")\n",
    "cancer_dataset.head()"
   ]
  },
  {
   "cell_type": "markdown",
   "metadata": {},
   "source": [
    "Now to clean up the data - remove the id, and convert the label from M/B to 1/0, as well as normalise the data and shuffle."
   ]
  },
  {
   "cell_type": "code",
   "execution_count": 6,
   "metadata": {},
   "outputs": [],
   "source": [
    "cancer_dataset.drop([\"id\",'Unnamed: 32'], axis=1, inplace=True)\n",
    "cancer_dataset[\"diagnosis\"] = cancer_dataset[\"diagnosis\"].apply(lambda x: 1 if (x==\"M\") else 0)\n",
    "\n",
    "#shuffle data\n",
    "cancer_dataset = cancer_dataset.reindex(np.random.permutation(cancer_dataset.index))\n",
    "\n",
    "#normalise the input features - this ensures they are all in the same range 0-1. \n",
    "cancer_dataset.loc[:, cancer_dataset.columns!=\"diagnosis\"] -= cancer_dataset.loc[:, cancer_dataset.columns!=\"diagnosis\"].mean()\n",
    "cancer_dataset.loc[:, cancer_dataset.columns!=\"diagnosis\"] /= cancer_dataset.loc[:, cancer_dataset.columns!=\"diagnosis\"].std()\n",
    "\n"
   ]
  },
  {
   "cell_type": "markdown",
   "metadata": {},
   "source": [
    "Now we have our $X$ and $Y$ for train and test for both linear and logistic regression. "
   ]
  },
  {
   "cell_type": "code",
   "execution_count": 8,
   "metadata": {},
   "outputs": [],
   "source": [
    "X_log_train = cancer_dataset.loc[:cancer_dataset.shape[0]*4//5, cancer_dataset.columns!=\"diagnosis\"].values.T \n",
    "Y_log_train = cancer_dataset.loc[:cancer_dataset.shape[0]*4//5, [\"diagnosis\"]].values.T \n",
    "\n",
    "X_log_test = cancer_dataset.loc[cancer_dataset.shape[0]*4//5:, cancer_dataset.columns!=\"diagnosis\"].values.T \n",
    "Y_log_test = cancer_dataset.loc[cancer_dataset.shape[0]*4//5:, [\"diagnosis\"]].values.T  "
   ]
  },
  {
   "cell_type": "markdown",
   "metadata": {},
   "source": [
    "## Initialise model"
   ]
  },
  {
   "cell_type": "markdown",
   "metadata": {},
   "source": [
    "Next, we initialise the weights and biases"
   ]
  },
  {
   "cell_type": "code",
   "execution_count": 9,
   "metadata": {},
   "outputs": [],
   "source": [
    "W_lin = np.random.randn(Y_lin_train.shape[0], X_lin_train.shape[0])\n",
    "b_lin = np.random.randn(Y_lin_train.shape[0],1)\n",
    "\n",
    "W_log = np.random.randn(Y_log_train.shape[0], X_log_train.shape[0])\n",
    "b_log = np.random.randn(Y_log_train.shape[0],1)\n"
   ]
  },
  {
   "cell_type": "markdown",
   "metadata": {},
   "source": [
    "Now we code up the equations for the forward step:\n",
    "    $$ \\hat{Y}_{lin} = WX+b$$\n",
    "    $$ \\hat{Y}_{log} = \\sigma(WX+b)$$"
   ]
  },
  {
   "cell_type": "code",
   "execution_count": 10,
   "metadata": {},
   "outputs": [],
   "source": [
    "def forward_lin(X, W, b):\n",
    "    return np.dot(W,X)+b\n",
    "\n",
    "def sigmoid(z):\n",
    "    return 1.0/(1+np.exp(-z))\n",
    "\n",
    "def forward_log(X,W,b):\n",
    "    return sigmoid(forward_lin(X,W,b))"
   ]
  },
  {
   "cell_type": "markdown",
   "metadata": {},
   "source": [
    "Let's look at some sample predictions from the network."
   ]
  },
  {
   "cell_type": "code",
   "execution_count": 10,
   "metadata": {},
   "outputs": [
    {
     "data": {
      "text/html": [
       "<div>\n",
       "<style scoped>\n",
       "    .dataframe tbody tr th:only-of-type {\n",
       "        vertical-align: middle;\n",
       "    }\n",
       "\n",
       "    .dataframe tbody tr th {\n",
       "        vertical-align: top;\n",
       "    }\n",
       "\n",
       "    .dataframe thead th {\n",
       "        text-align: right;\n",
       "    }\n",
       "</style>\n",
       "<table border=\"1\" class=\"dataframe\">\n",
       "  <thead>\n",
       "    <tr style=\"text-align: right;\">\n",
       "      <th></th>\n",
       "      <th>Y</th>\n",
       "      <th>predictions</th>\n",
       "    </tr>\n",
       "  </thead>\n",
       "  <tbody>\n",
       "    <tr>\n",
       "      <th>0</th>\n",
       "      <td>19.5</td>\n",
       "      <td>-1.586914</td>\n",
       "    </tr>\n",
       "    <tr>\n",
       "      <th>1</th>\n",
       "      <td>22.6</td>\n",
       "      <td>5.494474</td>\n",
       "    </tr>\n",
       "    <tr>\n",
       "      <th>2</th>\n",
       "      <td>23.9</td>\n",
       "      <td>-2.393939</td>\n",
       "    </tr>\n",
       "  </tbody>\n",
       "</table>\n",
       "</div>"
      ],
      "text/plain": [
       "      Y  predictions\n",
       "0  19.5    -1.586914\n",
       "1  22.6     5.494474\n",
       "2  23.9    -2.393939"
      ]
     },
     "execution_count": 10,
     "metadata": {},
     "output_type": "execute_result"
    }
   ],
   "source": [
    "pd.DataFrame({\"predictions\":forward_lin(X_lin_train[:,:3],W_lin,b_lin)[0] , \"Y\": Y_lin_train[:,:3][0] }).head()"
   ]
  },
  {
   "cell_type": "code",
   "execution_count": 11,
   "metadata": {},
   "outputs": [
    {
     "data": {
      "text/html": [
       "<div>\n",
       "<style scoped>\n",
       "    .dataframe tbody tr th:only-of-type {\n",
       "        vertical-align: middle;\n",
       "    }\n",
       "\n",
       "    .dataframe tbody tr th {\n",
       "        vertical-align: top;\n",
       "    }\n",
       "\n",
       "    .dataframe thead th {\n",
       "        text-align: right;\n",
       "    }\n",
       "</style>\n",
       "<table border=\"1\" class=\"dataframe\">\n",
       "  <thead>\n",
       "    <tr style=\"text-align: right;\">\n",
       "      <th></th>\n",
       "      <th>Y</th>\n",
       "      <th>predictions</th>\n",
       "    </tr>\n",
       "  </thead>\n",
       "  <tbody>\n",
       "    <tr>\n",
       "      <th>0</th>\n",
       "      <td>0</td>\n",
       "      <td>0.209461</td>\n",
       "    </tr>\n",
       "    <tr>\n",
       "      <th>1</th>\n",
       "      <td>0</td>\n",
       "      <td>0.840123</td>\n",
       "    </tr>\n",
       "    <tr>\n",
       "      <th>2</th>\n",
       "      <td>1</td>\n",
       "      <td>0.828904</td>\n",
       "    </tr>\n",
       "    <tr>\n",
       "      <th>3</th>\n",
       "      <td>0</td>\n",
       "      <td>0.534362</td>\n",
       "    </tr>\n",
       "    <tr>\n",
       "      <th>4</th>\n",
       "      <td>1</td>\n",
       "      <td>0.060692</td>\n",
       "    </tr>\n",
       "  </tbody>\n",
       "</table>\n",
       "</div>"
      ],
      "text/plain": [
       "   Y  predictions\n",
       "0  0     0.209461\n",
       "1  0     0.840123\n",
       "2  1     0.828904\n",
       "3  0     0.534362\n",
       "4  1     0.060692"
      ]
     },
     "execution_count": 11,
     "metadata": {},
     "output_type": "execute_result"
    }
   ],
   "source": [
    "pd.DataFrame({\"predictions\":forward_log(X_log_train[:,:5],W_log,b_log)[0] , \"Y\": Y_log_train[:,:5][0] }).head()"
   ]
  },
  {
   "cell_type": "markdown",
   "metadata": {},
   "source": [
    "Not very good! So let's train the model:\n",
    "\n",
    "First - the **loss functions** need to be defined: these are\n",
    "\n",
    "$$ J(W,b) = \\frac{1}{2m} \\sum_{i=1}^{m} (\\hat{y}^{(i)} - y^{(i)})^2 $$\n",
    "\n",
    "\n",
    "$$ J(W,b) = \\frac{-1}{m} \\sum_{i=1}^{m} y^{(i)} \\log(\\hat{y}^{(i)}) + (1-y^{(i)}) \\log(1-\\hat{y}^{(i)})$$\n",
    "\n"
   ]
  },
  {
   "cell_type": "code",
   "execution_count": 11,
   "metadata": {},
   "outputs": [],
   "source": [
    "def MSE_loss(Y, Y_pred):\n",
    "    m = Y.shape[1]\n",
    "    return (1.0/(2*m))*np.sum(np.square(Y_pred-Y))\n",
    "                                      \n",
    "\n",
    "def log_loss(Y, Y_pred):\n",
    "    m = Y.shape[1]\n",
    "    return (-1.0/m)*np.sum(Y*np.log(Y_pred) + (1-Y)*np.log(1-Y_pred))\n",
    "    "
   ]
  },
  {
   "cell_type": "code",
   "execution_count": 12,
   "metadata": {},
   "outputs": [
    {
     "data": {
      "text/plain": [
       "142.44446138745633"
      ]
     },
     "execution_count": 12,
     "metadata": {},
     "output_type": "execute_result"
    }
   ],
   "source": [
    "MSE_loss(Y_lin_train,forward_lin(X_lin_train,W_lin,b_lin))"
   ]
  },
  {
   "cell_type": "markdown",
   "metadata": {},
   "source": [
    "Now, to compute the gradients, note that they are actually the same for both linear and logistic regression:\n",
    "$$\\frac{\\partial{J}}{\\partial{W}} =  \\frac{1}{m} \\sum_{i=1}^{m} x^{(i)}(\\hat{y}^{(i)} - y^{(i)})$$\n",
    "$$\\frac{\\partial{J}}{\\partial{b}} =  \\frac{1}{m} \\sum_{i=1}^{m}(\\hat{y}^{(i)} - y^{(i)}) $$\n",
    "\n",
    "The first equation in matrix form is:\n",
    "\n",
    "$$\\frac{\\partial{J}}{\\partial{W}} =  \\frac{1}{m} (\\hat{Y} - Y).X^{T}$$\n",
    "\n",
    "\n"
   ]
  },
  {
   "cell_type": "code",
   "execution_count": 14,
   "metadata": {},
   "outputs": [],
   "source": [
    "def grads(X, Y, Y_pred):\n",
    "    m = Y.shape[1]\n",
    "    dW = (1.0/m)*np.dot(Y_pred-Y,X.T)\n",
    "    db = (1.0/m)*np.sum((Y_pred-Y),axis=1,keepdims=True)\n",
    "    return dW, db"
   ]
  },
  {
   "cell_type": "markdown",
   "metadata": {},
   "source": [
    "## Training the model \n",
    "\n",
    "Finally, we can train the model for both linear and logistic regression.\n",
    "\n",
    "The gradient descent update equation is as follows:\n",
    "\n",
    "$$ W= W - \\alpha \\frac{\\partial \\mathcal{J} }{\\partial W} $$\n",
    "\n",
    "$$ b = b - \\alpha \\frac{\\partial \\mathcal{J} }{\\partial b} $$\n",
    "\n",
    "We will loop over the training set for a set number of iterations (feel free to tweak $\\alpha$ and the number of iterations - these are hyperparameters).\n",
    "We'll also periodically output the loss at that iteration."
   ]
  },
  {
   "cell_type": "code",
   "execution_count": 15,
   "metadata": {},
   "outputs": [],
   "source": [
    "def gradient_descent_lin(X, W, b, Y, alpha=1e-2, iterations=500):\n",
    "    MSE_losses = [] #keep track of losses to plot\n",
    "    for i in range(iterations):\n",
    "        Y_pred = forward_lin(X, W, b)\n",
    "        MSE_losses.append(MSE_loss(Y,Y_pred)) \n",
    "        if(i%50==0):\n",
    "            print(\"Iteration {}: Loss={}\".format(i, MSE_losses[i]))\n",
    "        dW, db = grads(X, Y, Y_pred)\n",
    "        W = W -  alpha*dW\n",
    "        b = b - alpha*db\n",
    "    #plot the learning curve\n",
    "    plt.plot(range(iterations),MSE_losses)\n",
    "    plt.xlabel('Iterations')\n",
    "    plt.ylabel('Loss')\n",
    "    plt.show()\n",
    "    return W, b\n",
    "\n",
    "\n",
    "def gradient_descent_log(X, W, b, Y, alpha=3e-2, iterations=1000):\n",
    "    log_losses = [] #keep track of losses to plot\n",
    "    for i in range(iterations):\n",
    "        Y_pred = forward_log(X, W, b)\n",
    "        log_losses.append(log_loss(Y, Y_pred))\n",
    "        if(i%50==0):\n",
    "            print(\"Iteration {}: Loss={}\".format(i, log_losses[i]))\n",
    "        dW, db = grads(X, Y, Y_pred)\n",
    "        W = W -  alpha*dW\n",
    "        b = b - alpha*db\n",
    "    #plot the learning curve\n",
    "    plt.plot(range(iterations),log_losses)\n",
    "    plt.xlabel('Iterations')\n",
    "    plt.ylabel('Loss')\n",
    "    plt.show()\n",
    "    return W, b"
   ]
  },
  {
   "cell_type": "markdown",
   "metadata": {},
   "source": [
    "Let's run gradient descent on our training dataset:"
   ]
  },
  {
   "cell_type": "code",
   "execution_count": 16,
   "metadata": {},
   "outputs": [
    {
     "name": "stdout",
     "output_type": "stream",
     "text": [
      "Iteration 0: Loss=262.0815117020298\n",
      "Iteration 50: Loss=92.37719314829103\n",
      "Iteration 100: Loss=42.77267590051945\n",
      "Iteration 150: Loss=22.27903968209717\n",
      "Iteration 200: Loss=13.292711548638371\n",
      "Iteration 250: Loss=9.130594246847615\n",
      "Iteration 300: Loss=7.052356946860518\n",
      "Iteration 350: Loss=5.912583078605908\n",
      "Iteration 400: Loss=5.22192590557804\n",
      "Iteration 450: Loss=4.764288252119233\n"
     ]
    },
    {
     "data": {
      "image/png": "[encoded data removed]",
      "text/plain": [
       "<matplotlib.figure.Figure at 0x10d193cc0>"
      ]
     },
     "metadata": {},
     "output_type": "display_data"
    }
   ],
   "source": [
    "W_lin, b_lin = gradient_descent_lin(X_lin_train, W_lin, b_lin, Y_lin_train )"
   ]
  },
  {
   "cell_type": "code",
   "execution_count": 17,
   "metadata": {},
   "outputs": [
    {
     "name": "stdout",
     "output_type": "stream",
     "text": [
      "Iteration 0: Loss=2.4688115658422487\n",
      "Iteration 50: Loss=0.27787476325631844\n",
      "Iteration 100: Loss=0.1551004857694995\n",
      "Iteration 150: Loss=0.11381878173544119\n",
      "Iteration 200: Loss=0.09184940357069409\n",
      "Iteration 250: Loss=0.07788822478223308\n",
      "Iteration 300: Loss=0.06810060350800586\n",
      "Iteration 350: Loss=0.06079348172040011\n",
      "Iteration 400: Loss=0.05509414560237362\n",
      "Iteration 450: Loss=0.0505028590616163\n",
      "Iteration 500: Loss=0.046710972311958705\n",
      "Iteration 550: Loss=0.04351670724171835\n",
      "Iteration 600: Loss=0.040782171422264035\n",
      "Iteration 650: Loss=0.03840970535996516\n",
      "Iteration 700: Loss=0.03632807388257483\n",
      "Iteration 750: Loss=0.03448400967079236\n",
      "Iteration 800: Loss=0.03283682573364153\n",
      "Iteration 850: Loss=0.03135486685756147\n",
      "Iteration 900: Loss=0.030013104673279712\n",
      "Iteration 950: Loss=0.028791466883314944\n"
     ]
    },
    {
     "data": {
      "image/png": "[encoded data removed]",
      "text/plain": [
       "<matplotlib.figure.Figure at 0x10d193128>"
      ]
     },
     "metadata": {},
     "output_type": "display_data"
    }
   ],
   "source": [
    "W_log, b_log = gradient_descent_log(X_log_train, W_log,b_log, Y_log_train)"
   ]
  },
  {
   "cell_type": "markdown",
   "metadata": {},
   "source": [
    "Finally, we can test our trained algorithms on the test set:\n",
    "For the logistic regression algorithm, we can measure its performance with accuracy, for linear regression we use MSE."
   ]
  },
  {
   "cell_type": "code",
   "execution_count": 18,
   "metadata": {},
   "outputs": [
    {
     "data": {
      "text/plain": [
       "24.35323181847871"
      ]
     },
     "execution_count": 18,
     "metadata": {},
     "output_type": "execute_result"
    }
   ],
   "source": [
    "MSE_loss(Y_lin_test, forward_lin(X_lin_test,W_lin,b_lin))"
   ]
  },
  {
   "cell_type": "code",
   "execution_count": 19,
   "metadata": {},
   "outputs": [],
   "source": [
    "def accuracy(Y,Y_pred):\n",
    "    return np.mean(np.abs(np.rint(Y_pred)-Y)) #rint rounds to nearest int"
   ]
  },
  {
   "cell_type": "code",
   "execution_count": 20,
   "metadata": {},
   "outputs": [
    {
     "data": {
      "text/plain": [
       "0.05917159763313609"
      ]
     },
     "execution_count": 20,
     "metadata": {},
     "output_type": "execute_result"
    }
   ],
   "source": [
    "accuracy(Y_log_test, forward_log(X_log_test,W_log,b_log))"
   ]
  },
  {
   "cell_type": "markdown",
   "metadata": {},
   "source": [
    "It seems like the accuracy is pretty poor! \n",
    "\n",
    "However, accuracy is not a good metric when the dataset is skewed, instead we look at another metric called the **F1 Score** (ranges between 0 and 1) - higher is better. Using this, it turns out our logistic regression model's performance is pretty good!"
   ]
  },
  {
   "cell_type": "code",
   "execution_count": 21,
   "metadata": {},
   "outputs": [],
   "source": [
    "def F1_Score(Y_pred, Y):\n",
    "    prediction = np.rint(Y_pred)\n",
    "    \n",
    "    truth_pos = (Y == np.ones_like(Y))\n",
    "    truth_neg = (Y == np.zeros_like(Y))\n",
    "    pred_pos = (prediction == np.ones_like(prediction))\n",
    "    pred_neg = (prediction == np.zeros_like(prediction))\n",
    "\n",
    "    true_pos = np.sum(np.logical_and(truth_pos,pred_pos))\n",
    "    if true_pos == 0: #This prevents an undefined computation since precision=recall=0 \n",
    "        return 0\n",
    "    false_pos =np.sum(np.logical_and(truth_neg,pred_pos))\n",
    "    false_neg =np.sum(np.logical_and(truth_pos,pred_neg))\n",
    "    true_neg =np.sum(np.logical_and(truth_neg,pred_neg))\n",
    "\n",
    "    precision = true_pos/(true_pos + false_pos)\n",
    "    recall = (true_pos)/(true_pos + false_neg)\n",
    "    F1_score = 2*(recall*precision) /(recall + precision)\n",
    "    return F1_score "
   ]
  },
  {
   "cell_type": "code",
   "execution_count": 22,
   "metadata": {},
   "outputs": [
    {
     "data": {
      "text/plain": [
       "0.918918918918919"
      ]
     },
     "execution_count": 22,
     "metadata": {},
     "output_type": "execute_result"
    }
   ],
   "source": [
    "F1_Score(forward_log(X_log_test,W_log,b_log),Y_log_test)"
   ]
  },
  {
   "cell_type": "code",
   "execution_count": null,
   "metadata": {},
   "outputs": [],
   "source": []
  }
 ],
 "metadata": {
  "kernelspec": {
   "display_name": "Python 3",
   "language": "python",
   "name": "python3"
  },
  "language_info": {
   "codemirror_mode": {
    "name": "ipython",
    "version": 3
   },
   "file_extension": ".py",
   "mimetype": "text/x-python",
   "name": "python",
   "nbconvert_exporter": "python",
   "pygments_lexer": "ipython3",
   "version": "3.6.6"
  }
 },
 "nbformat": 4,
 "nbformat_minor": 2
}
